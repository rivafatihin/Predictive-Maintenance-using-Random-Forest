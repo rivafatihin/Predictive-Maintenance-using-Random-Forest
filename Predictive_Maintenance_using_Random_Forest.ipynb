{
  "nbformat": 4,
  "nbformat_minor": 0,
  "metadata": {
    "colab": {
      "provenance": [],
      "collapsed_sections": []
    },
    "kernelspec": {
      "name": "python3",
      "display_name": "Python 3"
    },
    "language_info": {
      "name": "python"
    }
  },
  "cells": [
    {
      "cell_type": "markdown",
      "source": [
        "# 1. Business Framing & Project overview"
      ],
      "metadata": {
        "id": "HOeYuxKfrqBK"
      }
    },
    {
      "cell_type": "markdown",
      "source": [
        "## Background"
      ],
      "metadata": {
        "id": "UwDzXjR5sJlK"
      }
    },
    {
      "cell_type": "markdown",
      "source": [
        "Manufacturing equipment is often utilized without a planned maintenance approach. Such a strategy frequently results in unplanned downtime, owing to unexpected failures. Scheduled maintenance replaces components frequently to avoid unexpected equipment stoppages, but increases the time associated with machine non-operation and maintenance cost. The emergence of Industry 4.0 and smart systems is leading to increasing attention to predictive maintenance (PdM) strategies that can decrease the cost of downtime and increase the availability (utilization rate) of manufacturing equipment. PdM also has the potential to foster sustainable practices in manufacturing by maximizing the useful lives of components.\n",
        "\n",
        "This project is approach of Machine learning implementation (Random Forest) for Predictive Maintenance."
      ],
      "metadata": {
        "id": "yK8S5hT2sR-r"
      }
    },
    {
      "cell_type": "markdown",
      "source": [
        "## Dataset source information"
      ],
      "metadata": {
        "id": "oAU0D_9-sooZ"
      }
    },
    {
      "cell_type": "markdown",
      "source": [
        "Dataset source from UCI link here [link text](https://archive.ics.uci.edu/ml/datasets/AI4I+2020+Predictive+Maintenance+Dataset)"
      ],
      "metadata": {
        "id": "7WovphRcsuBU"
      }
    },
    {
      "cell_type": "markdown",
      "source": [
        "## Objective"
      ],
      "metadata": {
        "id": "K_48v4pOtOCg"
      }
    },
    {
      "cell_type": "markdown",
      "source": [
        "This project is try to answer below business question:\n",
        "\n",
        "1.   What is the most suitable Random Forest model that fit for Predictive Maintenance reperesent by dataset?\n",
        "2.   What is features/attribute the model ‘thinks’ are most important in determining failure of the machine?"
      ],
      "metadata": {
        "id": "Tn8L_aaotitN"
      }
    },
    {
      "cell_type": "markdown",
      "source": [
        "# 2. Data understanding"
      ],
      "metadata": {
        "id": "JaBvcpSEu5Hj"
      }
    },
    {
      "cell_type": "markdown",
      "source": [
        "## Import libraries"
      ],
      "metadata": {
        "id": "oA7b8iaWu8DO"
      }
    },
    {
      "cell_type": "code",
      "source": [
        "import pandas as pd\n",
        "import numpy as np\n",
        "from sklearn.preprocessing import LabelEncoder\n",
        "import datetime\n",
        "from datetime import datetime\n",
        "\n",
        "from sklearn.model_selection import train_test_split\n",
        "from sklearn.ensemble import RandomForestClassifier\n",
        "from sklearn.metrics import accuracy_score\n",
        "from sklearn.metrics import classification_report\n",
        "from sklearn.metrics import confusion_matrix\n",
        "\n",
        "import matplotlib.pyplot as plt\n",
        "import seaborn as sns\n",
        "from sklearn.metrics import plot_roc_curve\n",
        "from sklearn.metrics import roc_auc_score\n",
        "\n",
        "from collections import Counter\n",
        "from imblearn.under_sampling import RandomUnderSampler\n",
        "import warnings\n",
        "warnings.simplefilter(action='ignore', category=FutureWarning)\n",
        "\n",
        "from collections import Counter\n",
        "from imblearn.over_sampling import SMOTE\n",
        "from imblearn.pipeline import Pipeline\n",
        "\n",
        "from sklearn.metrics import accuracy_score\n",
        "from sklearn.metrics import precision_score\n",
        "from sklearn.metrics import recall_score\n",
        "from sklearn.metrics import f1_score"
      ],
      "metadata": {
        "id": "F50T0NxNvV4m"
      },
      "execution_count": 1,
      "outputs": []
    },
    {
      "cell_type": "markdown",
      "source": [
        "## Load Data"
      ],
      "metadata": {
        "id": "Lt5v9VHDvg_F"
      }
    },
    {
      "cell_type": "code",
      "execution_count": 2,
      "metadata": {
        "id": "eav5O9UCq181"
      },
      "outputs": [],
      "source": [
        "data = pd.read_csv('predictive_maintenance.csv')"
      ]
    },
    {
      "cell_type": "markdown",
      "source": [
        "## Sample of data"
      ],
      "metadata": {
        "id": "L8SET7QdwD47"
      }
    },
    {
      "cell_type": "code",
      "source": [
        "# Showing top 5 rows of the data\n",
        "data.head()"
      ],
      "metadata": {
        "colab": {
          "base_uri": "https://localhost:8080/",
          "height": 206
        },
        "id": "3BKEfWMcv6OS",
        "outputId": "6cefbfe3-b51d-4ff9-e5ff-7df84fee9e1c"
      },
      "execution_count": 3,
      "outputs": [
        {
          "output_type": "execute_result",
          "data": {
            "text/plain": [
              "   UDI Product ID Type  Air temperature [K]  Process temperature [K]  \\\n",
              "0    1     M14860    M                298.1                    308.6   \n",
              "1    2     L47181    L                298.2                    308.7   \n",
              "2    3     L47182    L                298.1                    308.5   \n",
              "3    4     L47183    L                298.2                    308.6   \n",
              "4    5     L47184    L                298.2                    308.7   \n",
              "\n",
              "   Rotational speed [rpm]  Torque [Nm]  Tool wear [min]  Target Failure Type  \n",
              "0                    1551         42.8                0       0   No Failure  \n",
              "1                    1408         46.3                3       0   No Failure  \n",
              "2                    1498         49.4                5       0   No Failure  \n",
              "3                    1433         39.5                7       0   No Failure  \n",
              "4                    1408         40.0                9       0   No Failure  "
            ],
            "text/html": [
              "\n",
              "  <div id=\"df-408d2c0e-e4cb-42ab-901d-48f8c35104eb\">\n",
              "    <div class=\"colab-df-container\">\n",
              "      <div>\n",
              "<style scoped>\n",
              "    .dataframe tbody tr th:only-of-type {\n",
              "        vertical-align: middle;\n",
              "    }\n",
              "\n",
              "    .dataframe tbody tr th {\n",
              "        vertical-align: top;\n",
              "    }\n",
              "\n",
              "    .dataframe thead th {\n",
              "        text-align: right;\n",
              "    }\n",
              "</style>\n",
              "<table border=\"1\" class=\"dataframe\">\n",
              "  <thead>\n",
              "    <tr style=\"text-align: right;\">\n",
              "      <th></th>\n",
              "      <th>UDI</th>\n",
              "      <th>Product ID</th>\n",
              "      <th>Type</th>\n",
              "      <th>Air temperature [K]</th>\n",
              "      <th>Process temperature [K]</th>\n",
              "      <th>Rotational speed [rpm]</th>\n",
              "      <th>Torque [Nm]</th>\n",
              "      <th>Tool wear [min]</th>\n",
              "      <th>Target</th>\n",
              "      <th>Failure Type</th>\n",
              "    </tr>\n",
              "  </thead>\n",
              "  <tbody>\n",
              "    <tr>\n",
              "      <th>0</th>\n",
              "      <td>1</td>\n",
              "      <td>M14860</td>\n",
              "      <td>M</td>\n",
              "      <td>298.1</td>\n",
              "      <td>308.6</td>\n",
              "      <td>1551</td>\n",
              "      <td>42.8</td>\n",
              "      <td>0</td>\n",
              "      <td>0</td>\n",
              "      <td>No Failure</td>\n",
              "    </tr>\n",
              "    <tr>\n",
              "      <th>1</th>\n",
              "      <td>2</td>\n",
              "      <td>L47181</td>\n",
              "      <td>L</td>\n",
              "      <td>298.2</td>\n",
              "      <td>308.7</td>\n",
              "      <td>1408</td>\n",
              "      <td>46.3</td>\n",
              "      <td>3</td>\n",
              "      <td>0</td>\n",
              "      <td>No Failure</td>\n",
              "    </tr>\n",
              "    <tr>\n",
              "      <th>2</th>\n",
              "      <td>3</td>\n",
              "      <td>L47182</td>\n",
              "      <td>L</td>\n",
              "      <td>298.1</td>\n",
              "      <td>308.5</td>\n",
              "      <td>1498</td>\n",
              "      <td>49.4</td>\n",
              "      <td>5</td>\n",
              "      <td>0</td>\n",
              "      <td>No Failure</td>\n",
              "    </tr>\n",
              "    <tr>\n",
              "      <th>3</th>\n",
              "      <td>4</td>\n",
              "      <td>L47183</td>\n",
              "      <td>L</td>\n",
              "      <td>298.2</td>\n",
              "      <td>308.6</td>\n",
              "      <td>1433</td>\n",
              "      <td>39.5</td>\n",
              "      <td>7</td>\n",
              "      <td>0</td>\n",
              "      <td>No Failure</td>\n",
              "    </tr>\n",
              "    <tr>\n",
              "      <th>4</th>\n",
              "      <td>5</td>\n",
              "      <td>L47184</td>\n",
              "      <td>L</td>\n",
              "      <td>298.2</td>\n",
              "      <td>308.7</td>\n",
              "      <td>1408</td>\n",
              "      <td>40.0</td>\n",
              "      <td>9</td>\n",
              "      <td>0</td>\n",
              "      <td>No Failure</td>\n",
              "    </tr>\n",
              "  </tbody>\n",
              "</table>\n",
              "</div>\n",
              "      <button class=\"colab-df-convert\" onclick=\"convertToInteractive('df-408d2c0e-e4cb-42ab-901d-48f8c35104eb')\"\n",
              "              title=\"Convert this dataframe to an interactive table.\"\n",
              "              style=\"display:none;\">\n",
              "        \n",
              "  <svg xmlns=\"http://www.w3.org/2000/svg\" height=\"24px\"viewBox=\"0 0 24 24\"\n",
              "       width=\"24px\">\n",
              "    <path d=\"M0 0h24v24H0V0z\" fill=\"none\"/>\n",
              "    <path d=\"M18.56 5.44l.94 2.06.94-2.06 2.06-.94-2.06-.94-.94-2.06-.94 2.06-2.06.94zm-11 1L8.5 8.5l.94-2.06 2.06-.94-2.06-.94L8.5 2.5l-.94 2.06-2.06.94zm10 10l.94 2.06.94-2.06 2.06-.94-2.06-.94-.94-2.06-.94 2.06-2.06.94z\"/><path d=\"M17.41 7.96l-1.37-1.37c-.4-.4-.92-.59-1.43-.59-.52 0-1.04.2-1.43.59L10.3 9.45l-7.72 7.72c-.78.78-.78 2.05 0 2.83L4 21.41c.39.39.9.59 1.41.59.51 0 1.02-.2 1.41-.59l7.78-7.78 2.81-2.81c.8-.78.8-2.07 0-2.86zM5.41 20L4 18.59l7.72-7.72 1.47 1.35L5.41 20z\"/>\n",
              "  </svg>\n",
              "      </button>\n",
              "      \n",
              "  <style>\n",
              "    .colab-df-container {\n",
              "      display:flex;\n",
              "      flex-wrap:wrap;\n",
              "      gap: 12px;\n",
              "    }\n",
              "\n",
              "    .colab-df-convert {\n",
              "      background-color: #E8F0FE;\n",
              "      border: none;\n",
              "      border-radius: 50%;\n",
              "      cursor: pointer;\n",
              "      display: none;\n",
              "      fill: #1967D2;\n",
              "      height: 32px;\n",
              "      padding: 0 0 0 0;\n",
              "      width: 32px;\n",
              "    }\n",
              "\n",
              "    .colab-df-convert:hover {\n",
              "      background-color: #E2EBFA;\n",
              "      box-shadow: 0px 1px 2px rgba(60, 64, 67, 0.3), 0px 1px 3px 1px rgba(60, 64, 67, 0.15);\n",
              "      fill: #174EA6;\n",
              "    }\n",
              "\n",
              "    [theme=dark] .colab-df-convert {\n",
              "      background-color: #3B4455;\n",
              "      fill: #D2E3FC;\n",
              "    }\n",
              "\n",
              "    [theme=dark] .colab-df-convert:hover {\n",
              "      background-color: #434B5C;\n",
              "      box-shadow: 0px 1px 3px 1px rgba(0, 0, 0, 0.15);\n",
              "      filter: drop-shadow(0px 1px 2px rgba(0, 0, 0, 0.3));\n",
              "      fill: #FFFFFF;\n",
              "    }\n",
              "  </style>\n",
              "\n",
              "      <script>\n",
              "        const buttonEl =\n",
              "          document.querySelector('#df-408d2c0e-e4cb-42ab-901d-48f8c35104eb button.colab-df-convert');\n",
              "        buttonEl.style.display =\n",
              "          google.colab.kernel.accessAllowed ? 'block' : 'none';\n",
              "\n",
              "        async function convertToInteractive(key) {\n",
              "          const element = document.querySelector('#df-408d2c0e-e4cb-42ab-901d-48f8c35104eb');\n",
              "          const dataTable =\n",
              "            await google.colab.kernel.invokeFunction('convertToInteractive',\n",
              "                                                     [key], {});\n",
              "          if (!dataTable) return;\n",
              "\n",
              "          const docLinkHtml = 'Like what you see? Visit the ' +\n",
              "            '<a target=\"_blank\" href=https://colab.research.google.com/notebooks/data_table.ipynb>data table notebook</a>'\n",
              "            + ' to learn more about interactive tables.';\n",
              "          element.innerHTML = '';\n",
              "          dataTable['output_type'] = 'display_data';\n",
              "          await google.colab.output.renderOutput(dataTable, element);\n",
              "          const docLink = document.createElement('div');\n",
              "          docLink.innerHTML = docLinkHtml;\n",
              "          element.appendChild(docLink);\n",
              "        }\n",
              "      </script>\n",
              "    </div>\n",
              "  </div>\n",
              "  "
            ]
          },
          "metadata": {},
          "execution_count": 3
        }
      ]
    },
    {
      "cell_type": "code",
      "source": [
        "# sample 5 rows of the data\n",
        "# the results change everytime the code is executed (random sample)\n",
        "data.sample(5)"
      ],
      "metadata": {
        "colab": {
          "base_uri": "https://localhost:8080/",
          "height": 206
        },
        "id": "gPaIjeDbwL7U",
        "outputId": "56855914-a7d6-4a8b-bd4d-fc65bed3ebf0"
      },
      "execution_count": 4,
      "outputs": [
        {
          "output_type": "execute_result",
          "data": {
            "text/plain": [
              "       UDI Product ID Type  Air temperature [K]  Process temperature [K]  \\\n",
              "7078  7079     L54258    L                300.7                    310.5   \n",
              "6299  6300     L53479    L                301.2                    310.6   \n",
              "2746  2747     L49926    L                299.7                    309.2   \n",
              "8251  8252     L55431    L                299.0                    310.4   \n",
              "5927  5928     L53107    L                300.2                    310.1   \n",
              "\n",
              "      Rotational speed [rpm]  Torque [Nm]  Tool wear [min]  Target  \\\n",
              "7078                    1357         52.6              199       0   \n",
              "6299                    1385         49.2              105       0   \n",
              "2746                    1411         46.1              173       0   \n",
              "8251                    1981         21.2              125       0   \n",
              "5927                    1649         30.5               43       0   \n",
              "\n",
              "     Failure Type  \n",
              "7078   No Failure  \n",
              "6299   No Failure  \n",
              "2746   No Failure  \n",
              "8251   No Failure  \n",
              "5927   No Failure  "
            ],
            "text/html": [
              "\n",
              "  <div id=\"df-4761ffb7-4da6-456a-ace4-5a6846d81d7c\">\n",
              "    <div class=\"colab-df-container\">\n",
              "      <div>\n",
              "<style scoped>\n",
              "    .dataframe tbody tr th:only-of-type {\n",
              "        vertical-align: middle;\n",
              "    }\n",
              "\n",
              "    .dataframe tbody tr th {\n",
              "        vertical-align: top;\n",
              "    }\n",
              "\n",
              "    .dataframe thead th {\n",
              "        text-align: right;\n",
              "    }\n",
              "</style>\n",
              "<table border=\"1\" class=\"dataframe\">\n",
              "  <thead>\n",
              "    <tr style=\"text-align: right;\">\n",
              "      <th></th>\n",
              "      <th>UDI</th>\n",
              "      <th>Product ID</th>\n",
              "      <th>Type</th>\n",
              "      <th>Air temperature [K]</th>\n",
              "      <th>Process temperature [K]</th>\n",
              "      <th>Rotational speed [rpm]</th>\n",
              "      <th>Torque [Nm]</th>\n",
              "      <th>Tool wear [min]</th>\n",
              "      <th>Target</th>\n",
              "      <th>Failure Type</th>\n",
              "    </tr>\n",
              "  </thead>\n",
              "  <tbody>\n",
              "    <tr>\n",
              "      <th>7078</th>\n",
              "      <td>7079</td>\n",
              "      <td>L54258</td>\n",
              "      <td>L</td>\n",
              "      <td>300.7</td>\n",
              "      <td>310.5</td>\n",
              "      <td>1357</td>\n",
              "      <td>52.6</td>\n",
              "      <td>199</td>\n",
              "      <td>0</td>\n",
              "      <td>No Failure</td>\n",
              "    </tr>\n",
              "    <tr>\n",
              "      <th>6299</th>\n",
              "      <td>6300</td>\n",
              "      <td>L53479</td>\n",
              "      <td>L</td>\n",
              "      <td>301.2</td>\n",
              "      <td>310.6</td>\n",
              "      <td>1385</td>\n",
              "      <td>49.2</td>\n",
              "      <td>105</td>\n",
              "      <td>0</td>\n",
              "      <td>No Failure</td>\n",
              "    </tr>\n",
              "    <tr>\n",
              "      <th>2746</th>\n",
              "      <td>2747</td>\n",
              "      <td>L49926</td>\n",
              "      <td>L</td>\n",
              "      <td>299.7</td>\n",
              "      <td>309.2</td>\n",
              "      <td>1411</td>\n",
              "      <td>46.1</td>\n",
              "      <td>173</td>\n",
              "      <td>0</td>\n",
              "      <td>No Failure</td>\n",
              "    </tr>\n",
              "    <tr>\n",
              "      <th>8251</th>\n",
              "      <td>8252</td>\n",
              "      <td>L55431</td>\n",
              "      <td>L</td>\n",
              "      <td>299.0</td>\n",
              "      <td>310.4</td>\n",
              "      <td>1981</td>\n",
              "      <td>21.2</td>\n",
              "      <td>125</td>\n",
              "      <td>0</td>\n",
              "      <td>No Failure</td>\n",
              "    </tr>\n",
              "    <tr>\n",
              "      <th>5927</th>\n",
              "      <td>5928</td>\n",
              "      <td>L53107</td>\n",
              "      <td>L</td>\n",
              "      <td>300.2</td>\n",
              "      <td>310.1</td>\n",
              "      <td>1649</td>\n",
              "      <td>30.5</td>\n",
              "      <td>43</td>\n",
              "      <td>0</td>\n",
              "      <td>No Failure</td>\n",
              "    </tr>\n",
              "  </tbody>\n",
              "</table>\n",
              "</div>\n",
              "      <button class=\"colab-df-convert\" onclick=\"convertToInteractive('df-4761ffb7-4da6-456a-ace4-5a6846d81d7c')\"\n",
              "              title=\"Convert this dataframe to an interactive table.\"\n",
              "              style=\"display:none;\">\n",
              "        \n",
              "  <svg xmlns=\"http://www.w3.org/2000/svg\" height=\"24px\"viewBox=\"0 0 24 24\"\n",
              "       width=\"24px\">\n",
              "    <path d=\"M0 0h24v24H0V0z\" fill=\"none\"/>\n",
              "    <path d=\"M18.56 5.44l.94 2.06.94-2.06 2.06-.94-2.06-.94-.94-2.06-.94 2.06-2.06.94zm-11 1L8.5 8.5l.94-2.06 2.06-.94-2.06-.94L8.5 2.5l-.94 2.06-2.06.94zm10 10l.94 2.06.94-2.06 2.06-.94-2.06-.94-.94-2.06-.94 2.06-2.06.94z\"/><path d=\"M17.41 7.96l-1.37-1.37c-.4-.4-.92-.59-1.43-.59-.52 0-1.04.2-1.43.59L10.3 9.45l-7.72 7.72c-.78.78-.78 2.05 0 2.83L4 21.41c.39.39.9.59 1.41.59.51 0 1.02-.2 1.41-.59l7.78-7.78 2.81-2.81c.8-.78.8-2.07 0-2.86zM5.41 20L4 18.59l7.72-7.72 1.47 1.35L5.41 20z\"/>\n",
              "  </svg>\n",
              "      </button>\n",
              "      \n",
              "  <style>\n",
              "    .colab-df-container {\n",
              "      display:flex;\n",
              "      flex-wrap:wrap;\n",
              "      gap: 12px;\n",
              "    }\n",
              "\n",
              "    .colab-df-convert {\n",
              "      background-color: #E8F0FE;\n",
              "      border: none;\n",
              "      border-radius: 50%;\n",
              "      cursor: pointer;\n",
              "      display: none;\n",
              "      fill: #1967D2;\n",
              "      height: 32px;\n",
              "      padding: 0 0 0 0;\n",
              "      width: 32px;\n",
              "    }\n",
              "\n",
              "    .colab-df-convert:hover {\n",
              "      background-color: #E2EBFA;\n",
              "      box-shadow: 0px 1px 2px rgba(60, 64, 67, 0.3), 0px 1px 3px 1px rgba(60, 64, 67, 0.15);\n",
              "      fill: #174EA6;\n",
              "    }\n",
              "\n",
              "    [theme=dark] .colab-df-convert {\n",
              "      background-color: #3B4455;\n",
              "      fill: #D2E3FC;\n",
              "    }\n",
              "\n",
              "    [theme=dark] .colab-df-convert:hover {\n",
              "      background-color: #434B5C;\n",
              "      box-shadow: 0px 1px 3px 1px rgba(0, 0, 0, 0.15);\n",
              "      filter: drop-shadow(0px 1px 2px rgba(0, 0, 0, 0.3));\n",
              "      fill: #FFFFFF;\n",
              "    }\n",
              "  </style>\n",
              "\n",
              "      <script>\n",
              "        const buttonEl =\n",
              "          document.querySelector('#df-4761ffb7-4da6-456a-ace4-5a6846d81d7c button.colab-df-convert');\n",
              "        buttonEl.style.display =\n",
              "          google.colab.kernel.accessAllowed ? 'block' : 'none';\n",
              "\n",
              "        async function convertToInteractive(key) {\n",
              "          const element = document.querySelector('#df-4761ffb7-4da6-456a-ace4-5a6846d81d7c');\n",
              "          const dataTable =\n",
              "            await google.colab.kernel.invokeFunction('convertToInteractive',\n",
              "                                                     [key], {});\n",
              "          if (!dataTable) return;\n",
              "\n",
              "          const docLinkHtml = 'Like what you see? Visit the ' +\n",
              "            '<a target=\"_blank\" href=https://colab.research.google.com/notebooks/data_table.ipynb>data table notebook</a>'\n",
              "            + ' to learn more about interactive tables.';\n",
              "          element.innerHTML = '';\n",
              "          dataTable['output_type'] = 'display_data';\n",
              "          await google.colab.output.renderOutput(dataTable, element);\n",
              "          const docLink = document.createElement('div');\n",
              "          docLink.innerHTML = docLinkHtml;\n",
              "          element.appendChild(docLink);\n",
              "        }\n",
              "      </script>\n",
              "    </div>\n",
              "  </div>\n",
              "  "
            ]
          },
          "metadata": {},
          "execution_count": 4
        }
      ]
    },
    {
      "cell_type": "markdown",
      "source": [
        "Feature information:\n",
        "\n",
        "*   `UDI`: unique identifier ranging from 1 to 10000.\n",
        "*   `Product ID`: Product Identification number.\n",
        "*   `Type`: consisting of a letter L, M, or H for low (50% of all products), medium (30%), and high (20%) as product quality variants and a variant-specific serial number.\n",
        "*   `Air temperature [K]`: generated using a random walk process later normalized to a standard deviation of 2 K around 300 K.\n",
        "*   `Process temperature [K]`: generated using a random walk process normalized to a standard deviation of 1 K, added to the air temperature plus 10 K.\n",
        "*   `Rotational speed [rpm]`: calculated from powepower of 2860 W, overlaid with a normally distributed noise.\n",
        "*   `Torque [Nm]`: torque values are normally distributed around 40 Nm with an Ïƒ = 10 Nm and no negative values.\n",
        "*   `Tool wear [min]`: The quality variants H/M/L add 5/3/2 minutes of tool wear to the used tool in the process. and a 'machine failure' label that indicates, whether the machine has failed in this particular data point for any of the following failure modes are true.\n",
        "*   `Target`: Categorixe condition of the Machine = Failure or Not.\n",
        "*   `Failure Type`: Type of Failure, there are tool wear failure (TWF), Heat Dissipation Failure (HDF), Power Failure (PWF), Overstrain Failure (OSF), Random Failures (RNF).\n"
      ],
      "metadata": {
        "id": "2XRyr6v8wUOv"
      }
    },
    {
      "cell_type": "markdown",
      "source": [
        "## General Information & Missing Values"
      ],
      "metadata": {
        "id": "7EEDZFRzyJ2J"
      }
    },
    {
      "cell_type": "code",
      "source": [
        "data.info()"
      ],
      "metadata": {
        "colab": {
          "base_uri": "https://localhost:8080/"
        },
        "id": "WKsbx4b1ySbA",
        "outputId": "aa610fe6-2478-402a-f859-cbcb36028baa"
      },
      "execution_count": 5,
      "outputs": [
        {
          "output_type": "stream",
          "name": "stdout",
          "text": [
            "<class 'pandas.core.frame.DataFrame'>\n",
            "RangeIndex: 10000 entries, 0 to 9999\n",
            "Data columns (total 10 columns):\n",
            " #   Column                   Non-Null Count  Dtype  \n",
            "---  ------                   --------------  -----  \n",
            " 0   UDI                      10000 non-null  int64  \n",
            " 1   Product ID               10000 non-null  object \n",
            " 2   Type                     10000 non-null  object \n",
            " 3   Air temperature [K]      10000 non-null  float64\n",
            " 4   Process temperature [K]  10000 non-null  float64\n",
            " 5   Rotational speed [rpm]   10000 non-null  int64  \n",
            " 6   Torque [Nm]              10000 non-null  float64\n",
            " 7   Tool wear [min]          10000 non-null  int64  \n",
            " 8   Target                   10000 non-null  int64  \n",
            " 9   Failure Type             10000 non-null  object \n",
            "dtypes: float64(3), int64(4), object(3)\n",
            "memory usage: 781.4+ KB\n"
          ]
        }
      ]
    },
    {
      "cell_type": "markdown",
      "source": [
        "Observation:\n",
        "1. Data contains 10 columns with 422 rows.\n",
        "2. There is no missing value within the dataset.\n",
        "3. `Product ID`, `Type` & `Failure Type` column is categorical, the rest is numerical."
      ],
      "metadata": {
        "id": "hf2sCNP3z3IB"
      }
    },
    {
      "cell_type": "code",
      "source": [
        "# re-check missing values per column\n",
        "data.isna().sum()"
      ],
      "metadata": {
        "colab": {
          "base_uri": "https://localhost:8080/"
        },
        "id": "9ruGTM6G093r",
        "outputId": "8da03c2c-cc2e-43a0-b062-3c846242acae"
      },
      "execution_count": 6,
      "outputs": [
        {
          "output_type": "execute_result",
          "data": {
            "text/plain": [
              "UDI                        0\n",
              "Product ID                 0\n",
              "Type                       0\n",
              "Air temperature [K]        0\n",
              "Process temperature [K]    0\n",
              "Rotational speed [rpm]     0\n",
              "Torque [Nm]                0\n",
              "Tool wear [min]            0\n",
              "Target                     0\n",
              "Failure Type               0\n",
              "dtype: int64"
            ]
          },
          "metadata": {},
          "execution_count": 6
        }
      ]
    },
    {
      "cell_type": "markdown",
      "source": [
        "No missing values! :)"
      ],
      "metadata": {
        "id": "YqdxElud9FPj"
      }
    },
    {
      "cell_type": "markdown",
      "source": [
        "## Duplicated data check"
      ],
      "metadata": {
        "id": "ieGoKHIq1VEX"
      }
    },
    {
      "cell_type": "code",
      "source": [
        "# number of duplicated data\n",
        "data.duplicated().sum()"
      ],
      "metadata": {
        "colab": {
          "base_uri": "https://localhost:8080/"
        },
        "id": "0LGIaOJe1WJm",
        "outputId": "3e162db3-3653-46b4-c9d5-2bb48e7d993f"
      },
      "execution_count": 7,
      "outputs": [
        {
          "output_type": "execute_result",
          "data": {
            "text/plain": [
              "0"
            ]
          },
          "metadata": {},
          "execution_count": 7
        }
      ]
    },
    {
      "cell_type": "markdown",
      "source": [
        "Data don't have any duplicate row as well!!"
      ],
      "metadata": {
        "id": "dV7F87_W1eE2"
      }
    },
    {
      "cell_type": "markdown",
      "source": [
        "## Drop irrelevant feature"
      ],
      "metadata": {
        "id": "F__DqceO2D2s"
      }
    },
    {
      "cell_type": "code",
      "source": [
        "data.columns"
      ],
      "metadata": {
        "colab": {
          "base_uri": "https://localhost:8080/"
        },
        "id": "X-7tAxigMY6W",
        "outputId": "39ccfbff-9ee3-424a-b95b-eaf90b86fd4d"
      },
      "execution_count": 8,
      "outputs": [
        {
          "output_type": "execute_result",
          "data": {
            "text/plain": [
              "Index(['UDI', 'Product ID', 'Type', 'Air temperature [K]',\n",
              "       'Process temperature [K]', 'Rotational speed [rpm]', 'Torque [Nm]',\n",
              "       'Tool wear [min]', 'Target', 'Failure Type'],\n",
              "      dtype='object')"
            ]
          },
          "metadata": {},
          "execution_count": 8
        }
      ]
    },
    {
      "cell_type": "markdown",
      "source": [
        "Feature irrelevant:\n",
        "\n",
        "*  `UDI`: just give index information.\n",
        "*  `Product ID`: just give product index information.\n",
        "*  `Failure Type`: because this model only would like to identify Failure or not, without further analyize type of machine failure."
      ],
      "metadata": {
        "id": "FBXLAxuH2QIC"
      }
    },
    {
      "cell_type": "code",
      "source": [
        "data.drop(['UDI', 'Product ID','Failure Type'], axis=1, inplace=True)"
      ],
      "metadata": {
        "id": "TCV42FBb2KAn"
      },
      "execution_count": 9,
      "outputs": []
    },
    {
      "cell_type": "code",
      "source": [
        "data.sample(10)"
      ],
      "metadata": {
        "colab": {
          "base_uri": "https://localhost:8080/",
          "height": 363
        },
        "id": "q9KeMo678ckM",
        "outputId": "f3a49275-72df-4f90-bd68-54290f9811d4"
      },
      "execution_count": 10,
      "outputs": [
        {
          "output_type": "execute_result",
          "data": {
            "text/plain": [
              "     Type  Air temperature [K]  Process temperature [K]  \\\n",
              "6754    L                301.8                    311.1   \n",
              "6057    L                300.8                    310.8   \n",
              "4983    L                303.8                    313.1   \n",
              "3827    M                302.4                    310.9   \n",
              "862     H                296.1                    306.8   \n",
              "7429    L                300.0                    311.4   \n",
              "2307    H                299.0                    308.5   \n",
              "4819    L                303.6                    312.2   \n",
              "7275    L                300.2                    310.3   \n",
              "6601    M                301.5                    310.7   \n",
              "\n",
              "      Rotational speed [rpm]  Torque [Nm]  Tool wear [min]  Target  \n",
              "6754                    1495         36.9              197       0  \n",
              "6057                    1689         32.9              151       0  \n",
              "4983                    1869         25.8              211       0  \n",
              "3827                    1469         41.6              124       0  \n",
              "862                     1645         31.0               41       0  \n",
              "7429                    1590         33.6                5       0  \n",
              "2307                    1623         33.5              154       0  \n",
              "4819                    1696         30.7                5       0  \n",
              "7275                    1514         38.7               48       0  \n",
              "6601                    1347         47.9               29       0  "
            ],
            "text/html": [
              "\n",
              "  <div id=\"df-8c1902de-beb8-4f95-b174-de4d6eb63f41\">\n",
              "    <div class=\"colab-df-container\">\n",
              "      <div>\n",
              "<style scoped>\n",
              "    .dataframe tbody tr th:only-of-type {\n",
              "        vertical-align: middle;\n",
              "    }\n",
              "\n",
              "    .dataframe tbody tr th {\n",
              "        vertical-align: top;\n",
              "    }\n",
              "\n",
              "    .dataframe thead th {\n",
              "        text-align: right;\n",
              "    }\n",
              "</style>\n",
              "<table border=\"1\" class=\"dataframe\">\n",
              "  <thead>\n",
              "    <tr style=\"text-align: right;\">\n",
              "      <th></th>\n",
              "      <th>Type</th>\n",
              "      <th>Air temperature [K]</th>\n",
              "      <th>Process temperature [K]</th>\n",
              "      <th>Rotational speed [rpm]</th>\n",
              "      <th>Torque [Nm]</th>\n",
              "      <th>Tool wear [min]</th>\n",
              "      <th>Target</th>\n",
              "    </tr>\n",
              "  </thead>\n",
              "  <tbody>\n",
              "    <tr>\n",
              "      <th>6754</th>\n",
              "      <td>L</td>\n",
              "      <td>301.8</td>\n",
              "      <td>311.1</td>\n",
              "      <td>1495</td>\n",
              "      <td>36.9</td>\n",
              "      <td>197</td>\n",
              "      <td>0</td>\n",
              "    </tr>\n",
              "    <tr>\n",
              "      <th>6057</th>\n",
              "      <td>L</td>\n",
              "      <td>300.8</td>\n",
              "      <td>310.8</td>\n",
              "      <td>1689</td>\n",
              "      <td>32.9</td>\n",
              "      <td>151</td>\n",
              "      <td>0</td>\n",
              "    </tr>\n",
              "    <tr>\n",
              "      <th>4983</th>\n",
              "      <td>L</td>\n",
              "      <td>303.8</td>\n",
              "      <td>313.1</td>\n",
              "      <td>1869</td>\n",
              "      <td>25.8</td>\n",
              "      <td>211</td>\n",
              "      <td>0</td>\n",
              "    </tr>\n",
              "    <tr>\n",
              "      <th>3827</th>\n",
              "      <td>M</td>\n",
              "      <td>302.4</td>\n",
              "      <td>310.9</td>\n",
              "      <td>1469</td>\n",
              "      <td>41.6</td>\n",
              "      <td>124</td>\n",
              "      <td>0</td>\n",
              "    </tr>\n",
              "    <tr>\n",
              "      <th>862</th>\n",
              "      <td>H</td>\n",
              "      <td>296.1</td>\n",
              "      <td>306.8</td>\n",
              "      <td>1645</td>\n",
              "      <td>31.0</td>\n",
              "      <td>41</td>\n",
              "      <td>0</td>\n",
              "    </tr>\n",
              "    <tr>\n",
              "      <th>7429</th>\n",
              "      <td>L</td>\n",
              "      <td>300.0</td>\n",
              "      <td>311.4</td>\n",
              "      <td>1590</td>\n",
              "      <td>33.6</td>\n",
              "      <td>5</td>\n",
              "      <td>0</td>\n",
              "    </tr>\n",
              "    <tr>\n",
              "      <th>2307</th>\n",
              "      <td>H</td>\n",
              "      <td>299.0</td>\n",
              "      <td>308.5</td>\n",
              "      <td>1623</td>\n",
              "      <td>33.5</td>\n",
              "      <td>154</td>\n",
              "      <td>0</td>\n",
              "    </tr>\n",
              "    <tr>\n",
              "      <th>4819</th>\n",
              "      <td>L</td>\n",
              "      <td>303.6</td>\n",
              "      <td>312.2</td>\n",
              "      <td>1696</td>\n",
              "      <td>30.7</td>\n",
              "      <td>5</td>\n",
              "      <td>0</td>\n",
              "    </tr>\n",
              "    <tr>\n",
              "      <th>7275</th>\n",
              "      <td>L</td>\n",
              "      <td>300.2</td>\n",
              "      <td>310.3</td>\n",
              "      <td>1514</td>\n",
              "      <td>38.7</td>\n",
              "      <td>48</td>\n",
              "      <td>0</td>\n",
              "    </tr>\n",
              "    <tr>\n",
              "      <th>6601</th>\n",
              "      <td>M</td>\n",
              "      <td>301.5</td>\n",
              "      <td>310.7</td>\n",
              "      <td>1347</td>\n",
              "      <td>47.9</td>\n",
              "      <td>29</td>\n",
              "      <td>0</td>\n",
              "    </tr>\n",
              "  </tbody>\n",
              "</table>\n",
              "</div>\n",
              "      <button class=\"colab-df-convert\" onclick=\"convertToInteractive('df-8c1902de-beb8-4f95-b174-de4d6eb63f41')\"\n",
              "              title=\"Convert this dataframe to an interactive table.\"\n",
              "              style=\"display:none;\">\n",
              "        \n",
              "  <svg xmlns=\"http://www.w3.org/2000/svg\" height=\"24px\"viewBox=\"0 0 24 24\"\n",
              "       width=\"24px\">\n",
              "    <path d=\"M0 0h24v24H0V0z\" fill=\"none\"/>\n",
              "    <path d=\"M18.56 5.44l.94 2.06.94-2.06 2.06-.94-2.06-.94-.94-2.06-.94 2.06-2.06.94zm-11 1L8.5 8.5l.94-2.06 2.06-.94-2.06-.94L8.5 2.5l-.94 2.06-2.06.94zm10 10l.94 2.06.94-2.06 2.06-.94-2.06-.94-.94-2.06-.94 2.06-2.06.94z\"/><path d=\"M17.41 7.96l-1.37-1.37c-.4-.4-.92-.59-1.43-.59-.52 0-1.04.2-1.43.59L10.3 9.45l-7.72 7.72c-.78.78-.78 2.05 0 2.83L4 21.41c.39.39.9.59 1.41.59.51 0 1.02-.2 1.41-.59l7.78-7.78 2.81-2.81c.8-.78.8-2.07 0-2.86zM5.41 20L4 18.59l7.72-7.72 1.47 1.35L5.41 20z\"/>\n",
              "  </svg>\n",
              "      </button>\n",
              "      \n",
              "  <style>\n",
              "    .colab-df-container {\n",
              "      display:flex;\n",
              "      flex-wrap:wrap;\n",
              "      gap: 12px;\n",
              "    }\n",
              "\n",
              "    .colab-df-convert {\n",
              "      background-color: #E8F0FE;\n",
              "      border: none;\n",
              "      border-radius: 50%;\n",
              "      cursor: pointer;\n",
              "      display: none;\n",
              "      fill: #1967D2;\n",
              "      height: 32px;\n",
              "      padding: 0 0 0 0;\n",
              "      width: 32px;\n",
              "    }\n",
              "\n",
              "    .colab-df-convert:hover {\n",
              "      background-color: #E2EBFA;\n",
              "      box-shadow: 0px 1px 2px rgba(60, 64, 67, 0.3), 0px 1px 3px 1px rgba(60, 64, 67, 0.15);\n",
              "      fill: #174EA6;\n",
              "    }\n",
              "\n",
              "    [theme=dark] .colab-df-convert {\n",
              "      background-color: #3B4455;\n",
              "      fill: #D2E3FC;\n",
              "    }\n",
              "\n",
              "    [theme=dark] .colab-df-convert:hover {\n",
              "      background-color: #434B5C;\n",
              "      box-shadow: 0px 1px 3px 1px rgba(0, 0, 0, 0.15);\n",
              "      filter: drop-shadow(0px 1px 2px rgba(0, 0, 0, 0.3));\n",
              "      fill: #FFFFFF;\n",
              "    }\n",
              "  </style>\n",
              "\n",
              "      <script>\n",
              "        const buttonEl =\n",
              "          document.querySelector('#df-8c1902de-beb8-4f95-b174-de4d6eb63f41 button.colab-df-convert');\n",
              "        buttonEl.style.display =\n",
              "          google.colab.kernel.accessAllowed ? 'block' : 'none';\n",
              "\n",
              "        async function convertToInteractive(key) {\n",
              "          const element = document.querySelector('#df-8c1902de-beb8-4f95-b174-de4d6eb63f41');\n",
              "          const dataTable =\n",
              "            await google.colab.kernel.invokeFunction('convertToInteractive',\n",
              "                                                     [key], {});\n",
              "          if (!dataTable) return;\n",
              "\n",
              "          const docLinkHtml = 'Like what you see? Visit the ' +\n",
              "            '<a target=\"_blank\" href=https://colab.research.google.com/notebooks/data_table.ipynb>data table notebook</a>'\n",
              "            + ' to learn more about interactive tables.';\n",
              "          element.innerHTML = '';\n",
              "          dataTable['output_type'] = 'display_data';\n",
              "          await google.colab.output.renderOutput(dataTable, element);\n",
              "          const docLink = document.createElement('div');\n",
              "          docLink.innerHTML = docLinkHtml;\n",
              "          element.appendChild(docLink);\n",
              "        }\n",
              "      </script>\n",
              "    </div>\n",
              "  </div>\n",
              "  "
            ]
          },
          "metadata": {},
          "execution_count": 10
        }
      ]
    },
    {
      "cell_type": "code",
      "source": [
        "data.info()"
      ],
      "metadata": {
        "colab": {
          "base_uri": "https://localhost:8080/"
        },
        "id": "mzqPhj229qbW",
        "outputId": "dfacdb96-046d-4a6b-f70e-d1749ac245b7"
      },
      "execution_count": 11,
      "outputs": [
        {
          "output_type": "stream",
          "name": "stdout",
          "text": [
            "<class 'pandas.core.frame.DataFrame'>\n",
            "RangeIndex: 10000 entries, 0 to 9999\n",
            "Data columns (total 7 columns):\n",
            " #   Column                   Non-Null Count  Dtype  \n",
            "---  ------                   --------------  -----  \n",
            " 0   Type                     10000 non-null  object \n",
            " 1   Air temperature [K]      10000 non-null  float64\n",
            " 2   Process temperature [K]  10000 non-null  float64\n",
            " 3   Rotational speed [rpm]   10000 non-null  int64  \n",
            " 4   Torque [Nm]              10000 non-null  float64\n",
            " 5   Tool wear [min]          10000 non-null  int64  \n",
            " 6   Target                   10000 non-null  int64  \n",
            "dtypes: float64(3), int64(3), object(1)\n",
            "memory usage: 547.0+ KB\n"
          ]
        }
      ]
    },
    {
      "cell_type": "markdown",
      "source": [
        "## Statistical summary"
      ],
      "metadata": {
        "id": "8kQSCleb1wnE"
      }
    },
    {
      "cell_type": "code",
      "source": [
        "# group column names based on type\n",
        "# it will make our life easier onwards\n",
        "categoricals = ['Type']\n",
        "\n",
        "numericals = ['Air temperature [K]',\n",
        "       'Process temperature [K]', 'Rotational speed [rpm]', 'Torque [Nm]',\n",
        "       'Tool wear [min]', 'Target']"
      ],
      "metadata": {
        "id": "INr0yl5vUV2z"
      },
      "execution_count": 12,
      "outputs": []
    },
    {
      "cell_type": "code",
      "source": [
        "# numerical statistical sumary\n",
        "data[numericals].describe().T"
      ],
      "metadata": {
        "colab": {
          "base_uri": "https://localhost:8080/",
          "height": 238
        },
        "id": "I7R9RgxS-RdI",
        "outputId": "c209ab40-88d2-4a70-ccae-deca7db73074"
      },
      "execution_count": 13,
      "outputs": [
        {
          "output_type": "execute_result",
          "data": {
            "text/plain": [
              "                           count        mean         std     min     25%  \\\n",
              "Air temperature [K]      10000.0   300.00493    2.000259   295.3   298.3   \n",
              "Process temperature [K]  10000.0   310.00556    1.483734   305.7   308.8   \n",
              "Rotational speed [rpm]   10000.0  1538.77610  179.284096  1168.0  1423.0   \n",
              "Torque [Nm]              10000.0    39.98691    9.968934     3.8    33.2   \n",
              "Tool wear [min]          10000.0   107.95100   63.654147     0.0    53.0   \n",
              "Target                   10000.0     0.03390    0.180981     0.0     0.0   \n",
              "\n",
              "                            50%     75%     max  \n",
              "Air temperature [K]       300.1   301.5   304.5  \n",
              "Process temperature [K]   310.1   311.1   313.8  \n",
              "Rotational speed [rpm]   1503.0  1612.0  2886.0  \n",
              "Torque [Nm]                40.1    46.8    76.6  \n",
              "Tool wear [min]           108.0   162.0   253.0  \n",
              "Target                      0.0     0.0     1.0  "
            ],
            "text/html": [
              "\n",
              "  <div id=\"df-c392ee18-577d-4b51-89d9-c64fc9c831f1\">\n",
              "    <div class=\"colab-df-container\">\n",
              "      <div>\n",
              "<style scoped>\n",
              "    .dataframe tbody tr th:only-of-type {\n",
              "        vertical-align: middle;\n",
              "    }\n",
              "\n",
              "    .dataframe tbody tr th {\n",
              "        vertical-align: top;\n",
              "    }\n",
              "\n",
              "    .dataframe thead th {\n",
              "        text-align: right;\n",
              "    }\n",
              "</style>\n",
              "<table border=\"1\" class=\"dataframe\">\n",
              "  <thead>\n",
              "    <tr style=\"text-align: right;\">\n",
              "      <th></th>\n",
              "      <th>count</th>\n",
              "      <th>mean</th>\n",
              "      <th>std</th>\n",
              "      <th>min</th>\n",
              "      <th>25%</th>\n",
              "      <th>50%</th>\n",
              "      <th>75%</th>\n",
              "      <th>max</th>\n",
              "    </tr>\n",
              "  </thead>\n",
              "  <tbody>\n",
              "    <tr>\n",
              "      <th>Air temperature [K]</th>\n",
              "      <td>10000.0</td>\n",
              "      <td>300.00493</td>\n",
              "      <td>2.000259</td>\n",
              "      <td>295.3</td>\n",
              "      <td>298.3</td>\n",
              "      <td>300.1</td>\n",
              "      <td>301.5</td>\n",
              "      <td>304.5</td>\n",
              "    </tr>\n",
              "    <tr>\n",
              "      <th>Process temperature [K]</th>\n",
              "      <td>10000.0</td>\n",
              "      <td>310.00556</td>\n",
              "      <td>1.483734</td>\n",
              "      <td>305.7</td>\n",
              "      <td>308.8</td>\n",
              "      <td>310.1</td>\n",
              "      <td>311.1</td>\n",
              "      <td>313.8</td>\n",
              "    </tr>\n",
              "    <tr>\n",
              "      <th>Rotational speed [rpm]</th>\n",
              "      <td>10000.0</td>\n",
              "      <td>1538.77610</td>\n",
              "      <td>179.284096</td>\n",
              "      <td>1168.0</td>\n",
              "      <td>1423.0</td>\n",
              "      <td>1503.0</td>\n",
              "      <td>1612.0</td>\n",
              "      <td>2886.0</td>\n",
              "    </tr>\n",
              "    <tr>\n",
              "      <th>Torque [Nm]</th>\n",
              "      <td>10000.0</td>\n",
              "      <td>39.98691</td>\n",
              "      <td>9.968934</td>\n",
              "      <td>3.8</td>\n",
              "      <td>33.2</td>\n",
              "      <td>40.1</td>\n",
              "      <td>46.8</td>\n",
              "      <td>76.6</td>\n",
              "    </tr>\n",
              "    <tr>\n",
              "      <th>Tool wear [min]</th>\n",
              "      <td>10000.0</td>\n",
              "      <td>107.95100</td>\n",
              "      <td>63.654147</td>\n",
              "      <td>0.0</td>\n",
              "      <td>53.0</td>\n",
              "      <td>108.0</td>\n",
              "      <td>162.0</td>\n",
              "      <td>253.0</td>\n",
              "    </tr>\n",
              "    <tr>\n",
              "      <th>Target</th>\n",
              "      <td>10000.0</td>\n",
              "      <td>0.03390</td>\n",
              "      <td>0.180981</td>\n",
              "      <td>0.0</td>\n",
              "      <td>0.0</td>\n",
              "      <td>0.0</td>\n",
              "      <td>0.0</td>\n",
              "      <td>1.0</td>\n",
              "    </tr>\n",
              "  </tbody>\n",
              "</table>\n",
              "</div>\n",
              "      <button class=\"colab-df-convert\" onclick=\"convertToInteractive('df-c392ee18-577d-4b51-89d9-c64fc9c831f1')\"\n",
              "              title=\"Convert this dataframe to an interactive table.\"\n",
              "              style=\"display:none;\">\n",
              "        \n",
              "  <svg xmlns=\"http://www.w3.org/2000/svg\" height=\"24px\"viewBox=\"0 0 24 24\"\n",
              "       width=\"24px\">\n",
              "    <path d=\"M0 0h24v24H0V0z\" fill=\"none\"/>\n",
              "    <path d=\"M18.56 5.44l.94 2.06.94-2.06 2.06-.94-2.06-.94-.94-2.06-.94 2.06-2.06.94zm-11 1L8.5 8.5l.94-2.06 2.06-.94-2.06-.94L8.5 2.5l-.94 2.06-2.06.94zm10 10l.94 2.06.94-2.06 2.06-.94-2.06-.94-.94-2.06-.94 2.06-2.06.94z\"/><path d=\"M17.41 7.96l-1.37-1.37c-.4-.4-.92-.59-1.43-.59-.52 0-1.04.2-1.43.59L10.3 9.45l-7.72 7.72c-.78.78-.78 2.05 0 2.83L4 21.41c.39.39.9.59 1.41.59.51 0 1.02-.2 1.41-.59l7.78-7.78 2.81-2.81c.8-.78.8-2.07 0-2.86zM5.41 20L4 18.59l7.72-7.72 1.47 1.35L5.41 20z\"/>\n",
              "  </svg>\n",
              "      </button>\n",
              "      \n",
              "  <style>\n",
              "    .colab-df-container {\n",
              "      display:flex;\n",
              "      flex-wrap:wrap;\n",
              "      gap: 12px;\n",
              "    }\n",
              "\n",
              "    .colab-df-convert {\n",
              "      background-color: #E8F0FE;\n",
              "      border: none;\n",
              "      border-radius: 50%;\n",
              "      cursor: pointer;\n",
              "      display: none;\n",
              "      fill: #1967D2;\n",
              "      height: 32px;\n",
              "      padding: 0 0 0 0;\n",
              "      width: 32px;\n",
              "    }\n",
              "\n",
              "    .colab-df-convert:hover {\n",
              "      background-color: #E2EBFA;\n",
              "      box-shadow: 0px 1px 2px rgba(60, 64, 67, 0.3), 0px 1px 3px 1px rgba(60, 64, 67, 0.15);\n",
              "      fill: #174EA6;\n",
              "    }\n",
              "\n",
              "    [theme=dark] .colab-df-convert {\n",
              "      background-color: #3B4455;\n",
              "      fill: #D2E3FC;\n",
              "    }\n",
              "\n",
              "    [theme=dark] .colab-df-convert:hover {\n",
              "      background-color: #434B5C;\n",
              "      box-shadow: 0px 1px 3px 1px rgba(0, 0, 0, 0.15);\n",
              "      filter: drop-shadow(0px 1px 2px rgba(0, 0, 0, 0.3));\n",
              "      fill: #FFFFFF;\n",
              "    }\n",
              "  </style>\n",
              "\n",
              "      <script>\n",
              "        const buttonEl =\n",
              "          document.querySelector('#df-c392ee18-577d-4b51-89d9-c64fc9c831f1 button.colab-df-convert');\n",
              "        buttonEl.style.display =\n",
              "          google.colab.kernel.accessAllowed ? 'block' : 'none';\n",
              "\n",
              "        async function convertToInteractive(key) {\n",
              "          const element = document.querySelector('#df-c392ee18-577d-4b51-89d9-c64fc9c831f1');\n",
              "          const dataTable =\n",
              "            await google.colab.kernel.invokeFunction('convertToInteractive',\n",
              "                                                     [key], {});\n",
              "          if (!dataTable) return;\n",
              "\n",
              "          const docLinkHtml = 'Like what you see? Visit the ' +\n",
              "            '<a target=\"_blank\" href=https://colab.research.google.com/notebooks/data_table.ipynb>data table notebook</a>'\n",
              "            + ' to learn more about interactive tables.';\n",
              "          element.innerHTML = '';\n",
              "          dataTable['output_type'] = 'display_data';\n",
              "          await google.colab.output.renderOutput(dataTable, element);\n",
              "          const docLink = document.createElement('div');\n",
              "          docLink.innerHTML = docLinkHtml;\n",
              "          element.appendChild(docLink);\n",
              "        }\n",
              "      </script>\n",
              "    </div>\n",
              "  </div>\n",
              "  "
            ]
          },
          "metadata": {},
          "execution_count": 13
        }
      ]
    },
    {
      "cell_type": "markdown",
      "source": [
        "Observation:\n",
        "* Overall, the minimum and maximum values make sense for each column\n",
        "* `Target` column is boolean/binary column since the value is 0 or 1, no need to conclude its simmetricity. As this can be a target variable for modelling, we will inspect the balance-level later.\n",
        "* Mean ~ 50% (Median) in `Air temperature [K]`, `Process temperature [K]`,`Rotational speed [rpm]`, `Torque [Nm]` & `Tool wear [min]` column, indicating somewhat a symmetrical distribution."
      ],
      "metadata": {
        "id": "bx6kYNU8U64Z"
      }
    },
    {
      "cell_type": "code",
      "source": [
        "# describe method on categorical data\n",
        "data[categoricals].describe()"
      ],
      "metadata": {
        "colab": {
          "base_uri": "https://localhost:8080/",
          "height": 175
        },
        "id": "_PU9eSCuVnz6",
        "outputId": "b2b6989d-786c-4389-9da8-a788869c181c"
      },
      "execution_count": 14,
      "outputs": [
        {
          "output_type": "execute_result",
          "data": {
            "text/plain": [
              "         Type\n",
              "count   10000\n",
              "unique      3\n",
              "top         L\n",
              "freq     6000"
            ],
            "text/html": [
              "\n",
              "  <div id=\"df-2ba474fc-acc8-47d0-95af-3c838ab9ef64\">\n",
              "    <div class=\"colab-df-container\">\n",
              "      <div>\n",
              "<style scoped>\n",
              "    .dataframe tbody tr th:only-of-type {\n",
              "        vertical-align: middle;\n",
              "    }\n",
              "\n",
              "    .dataframe tbody tr th {\n",
              "        vertical-align: top;\n",
              "    }\n",
              "\n",
              "    .dataframe thead th {\n",
              "        text-align: right;\n",
              "    }\n",
              "</style>\n",
              "<table border=\"1\" class=\"dataframe\">\n",
              "  <thead>\n",
              "    <tr style=\"text-align: right;\">\n",
              "      <th></th>\n",
              "      <th>Type</th>\n",
              "    </tr>\n",
              "  </thead>\n",
              "  <tbody>\n",
              "    <tr>\n",
              "      <th>count</th>\n",
              "      <td>10000</td>\n",
              "    </tr>\n",
              "    <tr>\n",
              "      <th>unique</th>\n",
              "      <td>3</td>\n",
              "    </tr>\n",
              "    <tr>\n",
              "      <th>top</th>\n",
              "      <td>L</td>\n",
              "    </tr>\n",
              "    <tr>\n",
              "      <th>freq</th>\n",
              "      <td>6000</td>\n",
              "    </tr>\n",
              "  </tbody>\n",
              "</table>\n",
              "</div>\n",
              "      <button class=\"colab-df-convert\" onclick=\"convertToInteractive('df-2ba474fc-acc8-47d0-95af-3c838ab9ef64')\"\n",
              "              title=\"Convert this dataframe to an interactive table.\"\n",
              "              style=\"display:none;\">\n",
              "        \n",
              "  <svg xmlns=\"http://www.w3.org/2000/svg\" height=\"24px\"viewBox=\"0 0 24 24\"\n",
              "       width=\"24px\">\n",
              "    <path d=\"M0 0h24v24H0V0z\" fill=\"none\"/>\n",
              "    <path d=\"M18.56 5.44l.94 2.06.94-2.06 2.06-.94-2.06-.94-.94-2.06-.94 2.06-2.06.94zm-11 1L8.5 8.5l.94-2.06 2.06-.94-2.06-.94L8.5 2.5l-.94 2.06-2.06.94zm10 10l.94 2.06.94-2.06 2.06-.94-2.06-.94-.94-2.06-.94 2.06-2.06.94z\"/><path d=\"M17.41 7.96l-1.37-1.37c-.4-.4-.92-.59-1.43-.59-.52 0-1.04.2-1.43.59L10.3 9.45l-7.72 7.72c-.78.78-.78 2.05 0 2.83L4 21.41c.39.39.9.59 1.41.59.51 0 1.02-.2 1.41-.59l7.78-7.78 2.81-2.81c.8-.78.8-2.07 0-2.86zM5.41 20L4 18.59l7.72-7.72 1.47 1.35L5.41 20z\"/>\n",
              "  </svg>\n",
              "      </button>\n",
              "      \n",
              "  <style>\n",
              "    .colab-df-container {\n",
              "      display:flex;\n",
              "      flex-wrap:wrap;\n",
              "      gap: 12px;\n",
              "    }\n",
              "\n",
              "    .colab-df-convert {\n",
              "      background-color: #E8F0FE;\n",
              "      border: none;\n",
              "      border-radius: 50%;\n",
              "      cursor: pointer;\n",
              "      display: none;\n",
              "      fill: #1967D2;\n",
              "      height: 32px;\n",
              "      padding: 0 0 0 0;\n",
              "      width: 32px;\n",
              "    }\n",
              "\n",
              "    .colab-df-convert:hover {\n",
              "      background-color: #E2EBFA;\n",
              "      box-shadow: 0px 1px 2px rgba(60, 64, 67, 0.3), 0px 1px 3px 1px rgba(60, 64, 67, 0.15);\n",
              "      fill: #174EA6;\n",
              "    }\n",
              "\n",
              "    [theme=dark] .colab-df-convert {\n",
              "      background-color: #3B4455;\n",
              "      fill: #D2E3FC;\n",
              "    }\n",
              "\n",
              "    [theme=dark] .colab-df-convert:hover {\n",
              "      background-color: #434B5C;\n",
              "      box-shadow: 0px 1px 3px 1px rgba(0, 0, 0, 0.15);\n",
              "      filter: drop-shadow(0px 1px 2px rgba(0, 0, 0, 0.3));\n",
              "      fill: #FFFFFF;\n",
              "    }\n",
              "  </style>\n",
              "\n",
              "      <script>\n",
              "        const buttonEl =\n",
              "          document.querySelector('#df-2ba474fc-acc8-47d0-95af-3c838ab9ef64 button.colab-df-convert');\n",
              "        buttonEl.style.display =\n",
              "          google.colab.kernel.accessAllowed ? 'block' : 'none';\n",
              "\n",
              "        async function convertToInteractive(key) {\n",
              "          const element = document.querySelector('#df-2ba474fc-acc8-47d0-95af-3c838ab9ef64');\n",
              "          const dataTable =\n",
              "            await google.colab.kernel.invokeFunction('convertToInteractive',\n",
              "                                                     [key], {});\n",
              "          if (!dataTable) return;\n",
              "\n",
              "          const docLinkHtml = 'Like what you see? Visit the ' +\n",
              "            '<a target=\"_blank\" href=https://colab.research.google.com/notebooks/data_table.ipynb>data table notebook</a>'\n",
              "            + ' to learn more about interactive tables.';\n",
              "          element.innerHTML = '';\n",
              "          dataTable['output_type'] = 'display_data';\n",
              "          await google.colab.output.renderOutput(dataTable, element);\n",
              "          const docLink = document.createElement('div');\n",
              "          docLink.innerHTML = docLinkHtml;\n",
              "          element.appendChild(docLink);\n",
              "        }\n",
              "      </script>\n",
              "    </div>\n",
              "  </div>\n",
              "  "
            ]
          },
          "metadata": {},
          "execution_count": 14
        }
      ]
    },
    {
      "cell_type": "markdown",
      "source": [
        "Observations:\n",
        "* `Type` have 3 unique value, 'H','M' and 'L'.\n",
        "* 'L' large machine type is dominated the dataset with 6000 product."
      ],
      "metadata": {
        "id": "c6HcrNw7Vyj9"
      }
    },
    {
      "cell_type": "code",
      "source": [
        "# showing the precise value counts\n",
        "# this code is especially useful if we have many categorical columns\n",
        "for col in categoricals:\n",
        "  print(f\"Value counts of {col} column\")\n",
        "  print(data[col].value_counts(), '\\n')"
      ],
      "metadata": {
        "colab": {
          "base_uri": "https://localhost:8080/"
        },
        "id": "3YY_0EKiVxIE",
        "outputId": "f6c68f7c-c3c7-440e-e584-a9fb11f0f0a8"
      },
      "execution_count": 15,
      "outputs": [
        {
          "output_type": "stream",
          "name": "stdout",
          "text": [
            "Value counts of Type column\n",
            "L    6000\n",
            "M    2997\n",
            "H    1003\n",
            "Name: Type, dtype: int64 \n",
            "\n"
          ]
        }
      ]
    },
    {
      "cell_type": "markdown",
      "source": [
        "# 3. Perform Exploratory Data Analysis"
      ],
      "metadata": {
        "id": "2XLBXwfB-DRs"
      }
    },
    {
      "cell_type": "markdown",
      "source": [
        "## Univariat Analysis"
      ],
      "metadata": {
        "id": "njv20av0Axly"
      }
    },
    {
      "cell_type": "markdown",
      "source": [
        "### Boxplot to detect outliers"
      ],
      "metadata": {
        "id": "e89_RZr8WDaN"
      }
    },
    {
      "cell_type": "code",
      "source": [
        "# adjust the figure size for better readability\n",
        "plt.figure(figsize=(12,6))\n",
        "\n",
        "# plotting\n",
        "features = numericals\n",
        "for i in range(0, len(features)):\n",
        "    plt.subplot(1, len(features), i+1)\n",
        "    sns.boxplot(y=data[features[i]], color='blue')\n",
        "    plt.tight_layout()"
      ],
      "metadata": {
        "colab": {
          "base_uri": "https://localhost:8080/",
          "height": 441
        },
        "id": "U6Vi5aLeWEau",
        "outputId": "163204dd-3fbf-4b66-b45b-48542c6573b0"
      },
      "execution_count": 16,
      "outputs": [
        {
          "output_type": "display_data",
          "data": {
            "text/plain": [
              "<Figure size 864x432 with 6 Axes>"
            ],
            "image/png": "[encoded data removed]"
          },
          "metadata": {
            "needs_background": "light"
          }
        }
      ]
    },
    {
      "cell_type": "markdown",
      "source": [
        "Observations:"
      ],
      "metadata": {
        "id": "2mcIs0w0Xd9R"
      }
    },
    {
      "cell_type": "code",
      "source": [
        "outlier = data['Rotational speed [rpm]'].max()\n",
        "\n",
        "data[data['Rotational speed [rpm]'] == outlier]"
      ],
      "metadata": {
        "colab": {
          "base_uri": "https://localhost:8080/",
          "height": 81
        },
        "id": "KEn4xcbUWyhT",
        "outputId": "bb365721-a16f-4412-a990-17ba9005a158"
      },
      "execution_count": 17,
      "outputs": [
        {
          "output_type": "execute_result",
          "data": {
            "text/plain": [
              "     Type  Air temperature [K]  Process temperature [K]  \\\n",
              "1784    L                298.3                    308.0   \n",
              "\n",
              "      Rotational speed [rpm]  Torque [Nm]  Tool wear [min]  Target  \n",
              "1784                    2886          3.8               57       1  "
            ],
            "text/html": [
              "\n",
              "  <div id=\"df-1811de3b-3709-4a20-8d52-37574cb6cbb9\">\n",
              "    <div class=\"colab-df-container\">\n",
              "      <div>\n",
              "<style scoped>\n",
              "    .dataframe tbody tr th:only-of-type {\n",
              "        vertical-align: middle;\n",
              "    }\n",
              "\n",
              "    .dataframe tbody tr th {\n",
              "        vertical-align: top;\n",
              "    }\n",
              "\n",
              "    .dataframe thead th {\n",
              "        text-align: right;\n",
              "    }\n",
              "</style>\n",
              "<table border=\"1\" class=\"dataframe\">\n",
              "  <thead>\n",
              "    <tr style=\"text-align: right;\">\n",
              "      <th></th>\n",
              "      <th>Type</th>\n",
              "      <th>Air temperature [K]</th>\n",
              "      <th>Process temperature [K]</th>\n",
              "      <th>Rotational speed [rpm]</th>\n",
              "      <th>Torque [Nm]</th>\n",
              "      <th>Tool wear [min]</th>\n",
              "      <th>Target</th>\n",
              "    </tr>\n",
              "  </thead>\n",
              "  <tbody>\n",
              "    <tr>\n",
              "      <th>1784</th>\n",
              "      <td>L</td>\n",
              "      <td>298.3</td>\n",
              "      <td>308.0</td>\n",
              "      <td>2886</td>\n",
              "      <td>3.8</td>\n",
              "      <td>57</td>\n",
              "      <td>1</td>\n",
              "    </tr>\n",
              "  </tbody>\n",
              "</table>\n",
              "</div>\n",
              "      <button class=\"colab-df-convert\" onclick=\"convertToInteractive('df-1811de3b-3709-4a20-8d52-37574cb6cbb9')\"\n",
              "              title=\"Convert this dataframe to an interactive table.\"\n",
              "              style=\"display:none;\">\n",
              "        \n",
              "  <svg xmlns=\"http://www.w3.org/2000/svg\" height=\"24px\"viewBox=\"0 0 24 24\"\n",
              "       width=\"24px\">\n",
              "    <path d=\"M0 0h24v24H0V0z\" fill=\"none\"/>\n",
              "    <path d=\"M18.56 5.44l.94 2.06.94-2.06 2.06-.94-2.06-.94-.94-2.06-.94 2.06-2.06.94zm-11 1L8.5 8.5l.94-2.06 2.06-.94-2.06-.94L8.5 2.5l-.94 2.06-2.06.94zm10 10l.94 2.06.94-2.06 2.06-.94-2.06-.94-.94-2.06-.94 2.06-2.06.94z\"/><path d=\"M17.41 7.96l-1.37-1.37c-.4-.4-.92-.59-1.43-.59-.52 0-1.04.2-1.43.59L10.3 9.45l-7.72 7.72c-.78.78-.78 2.05 0 2.83L4 21.41c.39.39.9.59 1.41.59.51 0 1.02-.2 1.41-.59l7.78-7.78 2.81-2.81c.8-.78.8-2.07 0-2.86zM5.41 20L4 18.59l7.72-7.72 1.47 1.35L5.41 20z\"/>\n",
              "  </svg>\n",
              "      </button>\n",
              "      \n",
              "  <style>\n",
              "    .colab-df-container {\n",
              "      display:flex;\n",
              "      flex-wrap:wrap;\n",
              "      gap: 12px;\n",
              "    }\n",
              "\n",
              "    .colab-df-convert {\n",
              "      background-color: #E8F0FE;\n",
              "      border: none;\n",
              "      border-radius: 50%;\n",
              "      cursor: pointer;\n",
              "      display: none;\n",
              "      fill: #1967D2;\n",
              "      height: 32px;\n",
              "      padding: 0 0 0 0;\n",
              "      width: 32px;\n",
              "    }\n",
              "\n",
              "    .colab-df-convert:hover {\n",
              "      background-color: #E2EBFA;\n",
              "      box-shadow: 0px 1px 2px rgba(60, 64, 67, 0.3), 0px 1px 3px 1px rgba(60, 64, 67, 0.15);\n",
              "      fill: #174EA6;\n",
              "    }\n",
              "\n",
              "    [theme=dark] .colab-df-convert {\n",
              "      background-color: #3B4455;\n",
              "      fill: #D2E3FC;\n",
              "    }\n",
              "\n",
              "    [theme=dark] .colab-df-convert:hover {\n",
              "      background-color: #434B5C;\n",
              "      box-shadow: 0px 1px 3px 1px rgba(0, 0, 0, 0.15);\n",
              "      filter: drop-shadow(0px 1px 2px rgba(0, 0, 0, 0.3));\n",
              "      fill: #FFFFFF;\n",
              "    }\n",
              "  </style>\n",
              "\n",
              "      <script>\n",
              "        const buttonEl =\n",
              "          document.querySelector('#df-1811de3b-3709-4a20-8d52-37574cb6cbb9 button.colab-df-convert');\n",
              "        buttonEl.style.display =\n",
              "          google.colab.kernel.accessAllowed ? 'block' : 'none';\n",
              "\n",
              "        async function convertToInteractive(key) {\n",
              "          const element = document.querySelector('#df-1811de3b-3709-4a20-8d52-37574cb6cbb9');\n",
              "          const dataTable =\n",
              "            await google.colab.kernel.invokeFunction('convertToInteractive',\n",
              "                                                     [key], {});\n",
              "          if (!dataTable) return;\n",
              "\n",
              "          const docLinkHtml = 'Like what you see? Visit the ' +\n",
              "            '<a target=\"_blank\" href=https://colab.research.google.com/notebooks/data_table.ipynb>data table notebook</a>'\n",
              "            + ' to learn more about interactive tables.';\n",
              "          element.innerHTML = '';\n",
              "          dataTable['output_type'] = 'display_data';\n",
              "          await google.colab.output.renderOutput(dataTable, element);\n",
              "          const docLink = document.createElement('div');\n",
              "          docLink.innerHTML = docLinkHtml;\n",
              "          element.appendChild(docLink);\n",
              "        }\n",
              "      </script>\n",
              "    </div>\n",
              "  </div>\n",
              "  "
            ]
          },
          "metadata": {},
          "execution_count": 17
        }
      ]
    },
    {
      "cell_type": "markdown",
      "source": [
        "Obervation:\n",
        "1. There are outlier in the `Rotational speed [rpm]` column.\n",
        "2. But the value is still reasonable (NOT that extreme), hence no need to handle speficically"
      ],
      "metadata": {
        "id": "leD-oEr-vpTC"
      }
    },
    {
      "cell_type": "code",
      "source": [
        "outlier = data['Torque [Nm]'].max()\n",
        "\n",
        "data[data['Torque [Nm]'] == outlier]"
      ],
      "metadata": {
        "colab": {
          "base_uri": "https://localhost:8080/",
          "height": 81
        },
        "id": "ZzUyV8bTvdKA",
        "outputId": "54d37998-4287-4b28-8dab-fa1d829a20a4"
      },
      "execution_count": 18,
      "outputs": [
        {
          "output_type": "execute_result",
          "data": {
            "text/plain": [
              "     Type  Air temperature [K]  Process temperature [K]  \\\n",
              "7763    L                300.4                    311.6   \n",
              "\n",
              "      Rotational speed [rpm]  Torque [Nm]  Tool wear [min]  Target  \n",
              "7763                    1200         76.6                3       1  "
            ],
            "text/html": [
              "\n",
              "  <div id=\"df-6a21cef6-a5a3-4bf1-b8ce-ba1a13b1bfe6\">\n",
              "    <div class=\"colab-df-container\">\n",
              "      <div>\n",
              "<style scoped>\n",
              "    .dataframe tbody tr th:only-of-type {\n",
              "        vertical-align: middle;\n",
              "    }\n",
              "\n",
              "    .dataframe tbody tr th {\n",
              "        vertical-align: top;\n",
              "    }\n",
              "\n",
              "    .dataframe thead th {\n",
              "        text-align: right;\n",
              "    }\n",
              "</style>\n",
              "<table border=\"1\" class=\"dataframe\">\n",
              "  <thead>\n",
              "    <tr style=\"text-align: right;\">\n",
              "      <th></th>\n",
              "      <th>Type</th>\n",
              "      <th>Air temperature [K]</th>\n",
              "      <th>Process temperature [K]</th>\n",
              "      <th>Rotational speed [rpm]</th>\n",
              "      <th>Torque [Nm]</th>\n",
              "      <th>Tool wear [min]</th>\n",
              "      <th>Target</th>\n",
              "    </tr>\n",
              "  </thead>\n",
              "  <tbody>\n",
              "    <tr>\n",
              "      <th>7763</th>\n",
              "      <td>L</td>\n",
              "      <td>300.4</td>\n",
              "      <td>311.6</td>\n",
              "      <td>1200</td>\n",
              "      <td>76.6</td>\n",
              "      <td>3</td>\n",
              "      <td>1</td>\n",
              "    </tr>\n",
              "  </tbody>\n",
              "</table>\n",
              "</div>\n",
              "      <button class=\"colab-df-convert\" onclick=\"convertToInteractive('df-6a21cef6-a5a3-4bf1-b8ce-ba1a13b1bfe6')\"\n",
              "              title=\"Convert this dataframe to an interactive table.\"\n",
              "              style=\"display:none;\">\n",
              "        \n",
              "  <svg xmlns=\"http://www.w3.org/2000/svg\" height=\"24px\"viewBox=\"0 0 24 24\"\n",
              "       width=\"24px\">\n",
              "    <path d=\"M0 0h24v24H0V0z\" fill=\"none\"/>\n",
              "    <path d=\"M18.56 5.44l.94 2.06.94-2.06 2.06-.94-2.06-.94-.94-2.06-.94 2.06-2.06.94zm-11 1L8.5 8.5l.94-2.06 2.06-.94-2.06-.94L8.5 2.5l-.94 2.06-2.06.94zm10 10l.94 2.06.94-2.06 2.06-.94-2.06-.94-.94-2.06-.94 2.06-2.06.94z\"/><path d=\"M17.41 7.96l-1.37-1.37c-.4-.4-.92-.59-1.43-.59-.52 0-1.04.2-1.43.59L10.3 9.45l-7.72 7.72c-.78.78-.78 2.05 0 2.83L4 21.41c.39.39.9.59 1.41.59.51 0 1.02-.2 1.41-.59l7.78-7.78 2.81-2.81c.8-.78.8-2.07 0-2.86zM5.41 20L4 18.59l7.72-7.72 1.47 1.35L5.41 20z\"/>\n",
              "  </svg>\n",
              "      </button>\n",
              "      \n",
              "  <style>\n",
              "    .colab-df-container {\n",
              "      display:flex;\n",
              "      flex-wrap:wrap;\n",
              "      gap: 12px;\n",
              "    }\n",
              "\n",
              "    .colab-df-convert {\n",
              "      background-color: #E8F0FE;\n",
              "      border: none;\n",
              "      border-radius: 50%;\n",
              "      cursor: pointer;\n",
              "      display: none;\n",
              "      fill: #1967D2;\n",
              "      height: 32px;\n",
              "      padding: 0 0 0 0;\n",
              "      width: 32px;\n",
              "    }\n",
              "\n",
              "    .colab-df-convert:hover {\n",
              "      background-color: #E2EBFA;\n",
              "      box-shadow: 0px 1px 2px rgba(60, 64, 67, 0.3), 0px 1px 3px 1px rgba(60, 64, 67, 0.15);\n",
              "      fill: #174EA6;\n",
              "    }\n",
              "\n",
              "    [theme=dark] .colab-df-convert {\n",
              "      background-color: #3B4455;\n",
              "      fill: #D2E3FC;\n",
              "    }\n",
              "\n",
              "    [theme=dark] .colab-df-convert:hover {\n",
              "      background-color: #434B5C;\n",
              "      box-shadow: 0px 1px 3px 1px rgba(0, 0, 0, 0.15);\n",
              "      filter: drop-shadow(0px 1px 2px rgba(0, 0, 0, 0.3));\n",
              "      fill: #FFFFFF;\n",
              "    }\n",
              "  </style>\n",
              "\n",
              "      <script>\n",
              "        const buttonEl =\n",
              "          document.querySelector('#df-6a21cef6-a5a3-4bf1-b8ce-ba1a13b1bfe6 button.colab-df-convert');\n",
              "        buttonEl.style.display =\n",
              "          google.colab.kernel.accessAllowed ? 'block' : 'none';\n",
              "\n",
              "        async function convertToInteractive(key) {\n",
              "          const element = document.querySelector('#df-6a21cef6-a5a3-4bf1-b8ce-ba1a13b1bfe6');\n",
              "          const dataTable =\n",
              "            await google.colab.kernel.invokeFunction('convertToInteractive',\n",
              "                                                     [key], {});\n",
              "          if (!dataTable) return;\n",
              "\n",
              "          const docLinkHtml = 'Like what you see? Visit the ' +\n",
              "            '<a target=\"_blank\" href=https://colab.research.google.com/notebooks/data_table.ipynb>data table notebook</a>'\n",
              "            + ' to learn more about interactive tables.';\n",
              "          element.innerHTML = '';\n",
              "          dataTable['output_type'] = 'display_data';\n",
              "          await google.colab.output.renderOutput(dataTable, element);\n",
              "          const docLink = document.createElement('div');\n",
              "          docLink.innerHTML = docLinkHtml;\n",
              "          element.appendChild(docLink);\n",
              "        }\n",
              "      </script>\n",
              "    </div>\n",
              "  </div>\n",
              "  "
            ]
          },
          "metadata": {},
          "execution_count": 18
        }
      ]
    },
    {
      "cell_type": "code",
      "source": [
        "outlier = data['Torque [Nm]'].min()\n",
        "\n",
        "data[data['Torque [Nm]'] == outlier]"
      ],
      "metadata": {
        "colab": {
          "base_uri": "https://localhost:8080/",
          "height": 81
        },
        "id": "O2Zz6wulW_-E",
        "outputId": "a03dcf8a-3ec6-435e-865d-20f267cf73e3"
      },
      "execution_count": 19,
      "outputs": [
        {
          "output_type": "execute_result",
          "data": {
            "text/plain": [
              "     Type  Air temperature [K]  Process temperature [K]  \\\n",
              "1784    L                298.3                    308.0   \n",
              "\n",
              "      Rotational speed [rpm]  Torque [Nm]  Tool wear [min]  Target  \n",
              "1784                    2886          3.8               57       1  "
            ],
            "text/html": [
              "\n",
              "  <div id=\"df-fb82ca42-0e66-4992-b7fa-6d1508fd08c3\">\n",
              "    <div class=\"colab-df-container\">\n",
              "      <div>\n",
              "<style scoped>\n",
              "    .dataframe tbody tr th:only-of-type {\n",
              "        vertical-align: middle;\n",
              "    }\n",
              "\n",
              "    .dataframe tbody tr th {\n",
              "        vertical-align: top;\n",
              "    }\n",
              "\n",
              "    .dataframe thead th {\n",
              "        text-align: right;\n",
              "    }\n",
              "</style>\n",
              "<table border=\"1\" class=\"dataframe\">\n",
              "  <thead>\n",
              "    <tr style=\"text-align: right;\">\n",
              "      <th></th>\n",
              "      <th>Type</th>\n",
              "      <th>Air temperature [K]</th>\n",
              "      <th>Process temperature [K]</th>\n",
              "      <th>Rotational speed [rpm]</th>\n",
              "      <th>Torque [Nm]</th>\n",
              "      <th>Tool wear [min]</th>\n",
              "      <th>Target</th>\n",
              "    </tr>\n",
              "  </thead>\n",
              "  <tbody>\n",
              "    <tr>\n",
              "      <th>1784</th>\n",
              "      <td>L</td>\n",
              "      <td>298.3</td>\n",
              "      <td>308.0</td>\n",
              "      <td>2886</td>\n",
              "      <td>3.8</td>\n",
              "      <td>57</td>\n",
              "      <td>1</td>\n",
              "    </tr>\n",
              "  </tbody>\n",
              "</table>\n",
              "</div>\n",
              "      <button class=\"colab-df-convert\" onclick=\"convertToInteractive('df-fb82ca42-0e66-4992-b7fa-6d1508fd08c3')\"\n",
              "              title=\"Convert this dataframe to an interactive table.\"\n",
              "              style=\"display:none;\">\n",
              "        \n",
              "  <svg xmlns=\"http://www.w3.org/2000/svg\" height=\"24px\"viewBox=\"0 0 24 24\"\n",
              "       width=\"24px\">\n",
              "    <path d=\"M0 0h24v24H0V0z\" fill=\"none\"/>\n",
              "    <path d=\"M18.56 5.44l.94 2.06.94-2.06 2.06-.94-2.06-.94-.94-2.06-.94 2.06-2.06.94zm-11 1L8.5 8.5l.94-2.06 2.06-.94-2.06-.94L8.5 2.5l-.94 2.06-2.06.94zm10 10l.94 2.06.94-2.06 2.06-.94-2.06-.94-.94-2.06-.94 2.06-2.06.94z\"/><path d=\"M17.41 7.96l-1.37-1.37c-.4-.4-.92-.59-1.43-.59-.52 0-1.04.2-1.43.59L10.3 9.45l-7.72 7.72c-.78.78-.78 2.05 0 2.83L4 21.41c.39.39.9.59 1.41.59.51 0 1.02-.2 1.41-.59l7.78-7.78 2.81-2.81c.8-.78.8-2.07 0-2.86zM5.41 20L4 18.59l7.72-7.72 1.47 1.35L5.41 20z\"/>\n",
              "  </svg>\n",
              "      </button>\n",
              "      \n",
              "  <style>\n",
              "    .colab-df-container {\n",
              "      display:flex;\n",
              "      flex-wrap:wrap;\n",
              "      gap: 12px;\n",
              "    }\n",
              "\n",
              "    .colab-df-convert {\n",
              "      background-color: #E8F0FE;\n",
              "      border: none;\n",
              "      border-radius: 50%;\n",
              "      cursor: pointer;\n",
              "      display: none;\n",
              "      fill: #1967D2;\n",
              "      height: 32px;\n",
              "      padding: 0 0 0 0;\n",
              "      width: 32px;\n",
              "    }\n",
              "\n",
              "    .colab-df-convert:hover {\n",
              "      background-color: #E2EBFA;\n",
              "      box-shadow: 0px 1px 2px rgba(60, 64, 67, 0.3), 0px 1px 3px 1px rgba(60, 64, 67, 0.15);\n",
              "      fill: #174EA6;\n",
              "    }\n",
              "\n",
              "    [theme=dark] .colab-df-convert {\n",
              "      background-color: #3B4455;\n",
              "      fill: #D2E3FC;\n",
              "    }\n",
              "\n",
              "    [theme=dark] .colab-df-convert:hover {\n",
              "      background-color: #434B5C;\n",
              "      box-shadow: 0px 1px 3px 1px rgba(0, 0, 0, 0.15);\n",
              "      filter: drop-shadow(0px 1px 2px rgba(0, 0, 0, 0.3));\n",
              "      fill: #FFFFFF;\n",
              "    }\n",
              "  </style>\n",
              "\n",
              "      <script>\n",
              "        const buttonEl =\n",
              "          document.querySelector('#df-fb82ca42-0e66-4992-b7fa-6d1508fd08c3 button.colab-df-convert');\n",
              "        buttonEl.style.display =\n",
              "          google.colab.kernel.accessAllowed ? 'block' : 'none';\n",
              "\n",
              "        async function convertToInteractive(key) {\n",
              "          const element = document.querySelector('#df-fb82ca42-0e66-4992-b7fa-6d1508fd08c3');\n",
              "          const dataTable =\n",
              "            await google.colab.kernel.invokeFunction('convertToInteractive',\n",
              "                                                     [key], {});\n",
              "          if (!dataTable) return;\n",
              "\n",
              "          const docLinkHtml = 'Like what you see? Visit the ' +\n",
              "            '<a target=\"_blank\" href=https://colab.research.google.com/notebooks/data_table.ipynb>data table notebook</a>'\n",
              "            + ' to learn more about interactive tables.';\n",
              "          element.innerHTML = '';\n",
              "          dataTable['output_type'] = 'display_data';\n",
              "          await google.colab.output.renderOutput(dataTable, element);\n",
              "          const docLink = document.createElement('div');\n",
              "          docLink.innerHTML = docLinkHtml;\n",
              "          element.appendChild(docLink);\n",
              "        }\n",
              "      </script>\n",
              "    </div>\n",
              "  </div>\n",
              "  "
            ]
          },
          "metadata": {},
          "execution_count": 19
        }
      ]
    },
    {
      "cell_type": "markdown",
      "source": [
        "Obervation:\n",
        "1. There are outlier in the `Torque [Nm]` column.\n",
        "2. But the value is still reasonable (NOT that extreme), hence no need to handle speficically"
      ],
      "metadata": {
        "id": "YQ0zliBeXl1W"
      }
    },
    {
      "cell_type": "markdown",
      "source": [
        "### KDE plot for knowing the distribution form"
      ],
      "metadata": {
        "id": "BBDihBIwXrnd"
      }
    },
    {
      "cell_type": "code",
      "source": [
        "# adjust the figure size for better readability\n",
        "plt.figure(figsize=(12,6))\n",
        "\n",
        "features = numericals\n",
        "for i in range(0, len(features)):\n",
        "    plt.subplot(2, len(features)//2 + 1, i+1)\n",
        "    #plt.subplot(1, len(features), i+1)\n",
        "    sns.distplot(x=data[features[i]], color='skyblue')\n",
        "    plt.xlabel(features[i])\n",
        "    plt.tight_layout()"
      ],
      "metadata": {
        "colab": {
          "base_uri": "https://localhost:8080/",
          "height": 441
        },
        "id": "GVp4K2GtXuD_",
        "outputId": "bacafc3e-a2c4-4474-9cb1-357c9bfdfdd7"
      },
      "execution_count": 20,
      "outputs": [
        {
          "output_type": "display_data",
          "data": {
            "text/plain": [
              "<Figure size 864x432 with 6 Axes>"
            ],
            "image/png": "[encoded data removed]"
          },
          "metadata": {
            "needs_background": "light"
          }
        }
      ]
    },
    {
      "cell_type": "markdown",
      "source": [
        "Observation:\n",
        "1. The true continuous numeric features: `Air temperature [K]`, `Process temperature [K]`,`Rotational speed [rpm]`, `Torque [Nm]` & `Tool wear [min]` which  is good (no need to transform them to approximate normal distribution)\n",
        "2. In terms of the target variable, `Target = 0` is more frequent in the dataset. But, the imbalance condition is NOT severe (still OK)"
      ],
      "metadata": {
        "id": "groP8eHBX6IC"
      }
    },
    {
      "cell_type": "markdown",
      "source": [
        "## Bivariate Analysis"
      ],
      "metadata": {
        "id": "CL5Tf4g9YOMo"
      }
    },
    {
      "cell_type": "code",
      "source": [
        "# remember the dataset\n",
        "data.head()"
      ],
      "metadata": {
        "colab": {
          "base_uri": "https://localhost:8080/",
          "height": 206
        },
        "id": "W74KQpQJYWGA",
        "outputId": "a9fb79dd-4dd5-4739-805e-5a8f1c126f87"
      },
      "execution_count": 21,
      "outputs": [
        {
          "output_type": "execute_result",
          "data": {
            "text/plain": [
              "  Type  Air temperature [K]  Process temperature [K]  Rotational speed [rpm]  \\\n",
              "0    M                298.1                    308.6                    1551   \n",
              "1    L                298.2                    308.7                    1408   \n",
              "2    L                298.1                    308.5                    1498   \n",
              "3    L                298.2                    308.6                    1433   \n",
              "4    L                298.2                    308.7                    1408   \n",
              "\n",
              "   Torque [Nm]  Tool wear [min]  Target  \n",
              "0         42.8                0       0  \n",
              "1         46.3                3       0  \n",
              "2         49.4                5       0  \n",
              "3         39.5                7       0  \n",
              "4         40.0                9       0  "
            ],
            "text/html": [
              "\n",
              "  <div id=\"df-2d4a8664-6685-4bd3-9c39-d6258bcb8a99\">\n",
              "    <div class=\"colab-df-container\">\n",
              "      <div>\n",
              "<style scoped>\n",
              "    .dataframe tbody tr th:only-of-type {\n",
              "        vertical-align: middle;\n",
              "    }\n",
              "\n",
              "    .dataframe tbody tr th {\n",
              "        vertical-align: top;\n",
              "    }\n",
              "\n",
              "    .dataframe thead th {\n",
              "        text-align: right;\n",
              "    }\n",
              "</style>\n",
              "<table border=\"1\" class=\"dataframe\">\n",
              "  <thead>\n",
              "    <tr style=\"text-align: right;\">\n",
              "      <th></th>\n",
              "      <th>Type</th>\n",
              "      <th>Air temperature [K]</th>\n",
              "      <th>Process temperature [K]</th>\n",
              "      <th>Rotational speed [rpm]</th>\n",
              "      <th>Torque [Nm]</th>\n",
              "      <th>Tool wear [min]</th>\n",
              "      <th>Target</th>\n",
              "    </tr>\n",
              "  </thead>\n",
              "  <tbody>\n",
              "    <tr>\n",
              "      <th>0</th>\n",
              "      <td>M</td>\n",
              "      <td>298.1</td>\n",
              "      <td>308.6</td>\n",
              "      <td>1551</td>\n",
              "      <td>42.8</td>\n",
              "      <td>0</td>\n",
              "      <td>0</td>\n",
              "    </tr>\n",
              "    <tr>\n",
              "      <th>1</th>\n",
              "      <td>L</td>\n",
              "      <td>298.2</td>\n",
              "      <td>308.7</td>\n",
              "      <td>1408</td>\n",
              "      <td>46.3</td>\n",
              "      <td>3</td>\n",
              "      <td>0</td>\n",
              "    </tr>\n",
              "    <tr>\n",
              "      <th>2</th>\n",
              "      <td>L</td>\n",
              "      <td>298.1</td>\n",
              "      <td>308.5</td>\n",
              "      <td>1498</td>\n",
              "      <td>49.4</td>\n",
              "      <td>5</td>\n",
              "      <td>0</td>\n",
              "    </tr>\n",
              "    <tr>\n",
              "      <th>3</th>\n",
              "      <td>L</td>\n",
              "      <td>298.2</td>\n",
              "      <td>308.6</td>\n",
              "      <td>1433</td>\n",
              "      <td>39.5</td>\n",
              "      <td>7</td>\n",
              "      <td>0</td>\n",
              "    </tr>\n",
              "    <tr>\n",
              "      <th>4</th>\n",
              "      <td>L</td>\n",
              "      <td>298.2</td>\n",
              "      <td>308.7</td>\n",
              "      <td>1408</td>\n",
              "      <td>40.0</td>\n",
              "      <td>9</td>\n",
              "      <td>0</td>\n",
              "    </tr>\n",
              "  </tbody>\n",
              "</table>\n",
              "</div>\n",
              "      <button class=\"colab-df-convert\" onclick=\"convertToInteractive('df-2d4a8664-6685-4bd3-9c39-d6258bcb8a99')\"\n",
              "              title=\"Convert this dataframe to an interactive table.\"\n",
              "              style=\"display:none;\">\n",
              "        \n",
              "  <svg xmlns=\"http://www.w3.org/2000/svg\" height=\"24px\"viewBox=\"0 0 24 24\"\n",
              "       width=\"24px\">\n",
              "    <path d=\"M0 0h24v24H0V0z\" fill=\"none\"/>\n",
              "    <path d=\"M18.56 5.44l.94 2.06.94-2.06 2.06-.94-2.06-.94-.94-2.06-.94 2.06-2.06.94zm-11 1L8.5 8.5l.94-2.06 2.06-.94-2.06-.94L8.5 2.5l-.94 2.06-2.06.94zm10 10l.94 2.06.94-2.06 2.06-.94-2.06-.94-.94-2.06-.94 2.06-2.06.94z\"/><path d=\"M17.41 7.96l-1.37-1.37c-.4-.4-.92-.59-1.43-.59-.52 0-1.04.2-1.43.59L10.3 9.45l-7.72 7.72c-.78.78-.78 2.05 0 2.83L4 21.41c.39.39.9.59 1.41.59.51 0 1.02-.2 1.41-.59l7.78-7.78 2.81-2.81c.8-.78.8-2.07 0-2.86zM5.41 20L4 18.59l7.72-7.72 1.47 1.35L5.41 20z\"/>\n",
              "  </svg>\n",
              "      </button>\n",
              "      \n",
              "  <style>\n",
              "    .colab-df-container {\n",
              "      display:flex;\n",
              "      flex-wrap:wrap;\n",
              "      gap: 12px;\n",
              "    }\n",
              "\n",
              "    .colab-df-convert {\n",
              "      background-color: #E8F0FE;\n",
              "      border: none;\n",
              "      border-radius: 50%;\n",
              "      cursor: pointer;\n",
              "      display: none;\n",
              "      fill: #1967D2;\n",
              "      height: 32px;\n",
              "      padding: 0 0 0 0;\n",
              "      width: 32px;\n",
              "    }\n",
              "\n",
              "    .colab-df-convert:hover {\n",
              "      background-color: #E2EBFA;\n",
              "      box-shadow: 0px 1px 2px rgba(60, 64, 67, 0.3), 0px 1px 3px 1px rgba(60, 64, 67, 0.15);\n",
              "      fill: #174EA6;\n",
              "    }\n",
              "\n",
              "    [theme=dark] .colab-df-convert {\n",
              "      background-color: #3B4455;\n",
              "      fill: #D2E3FC;\n",
              "    }\n",
              "\n",
              "    [theme=dark] .colab-df-convert:hover {\n",
              "      background-color: #434B5C;\n",
              "      box-shadow: 0px 1px 3px 1px rgba(0, 0, 0, 0.15);\n",
              "      filter: drop-shadow(0px 1px 2px rgba(0, 0, 0, 0.3));\n",
              "      fill: #FFFFFF;\n",
              "    }\n",
              "  </style>\n",
              "\n",
              "      <script>\n",
              "        const buttonEl =\n",
              "          document.querySelector('#df-2d4a8664-6685-4bd3-9c39-d6258bcb8a99 button.colab-df-convert');\n",
              "        buttonEl.style.display =\n",
              "          google.colab.kernel.accessAllowed ? 'block' : 'none';\n",
              "\n",
              "        async function convertToInteractive(key) {\n",
              "          const element = document.querySelector('#df-2d4a8664-6685-4bd3-9c39-d6258bcb8a99');\n",
              "          const dataTable =\n",
              "            await google.colab.kernel.invokeFunction('convertToInteractive',\n",
              "                                                     [key], {});\n",
              "          if (!dataTable) return;\n",
              "\n",
              "          const docLinkHtml = 'Like what you see? Visit the ' +\n",
              "            '<a target=\"_blank\" href=https://colab.research.google.com/notebooks/data_table.ipynb>data table notebook</a>'\n",
              "            + ' to learn more about interactive tables.';\n",
              "          element.innerHTML = '';\n",
              "          dataTable['output_type'] = 'display_data';\n",
              "          await google.colab.output.renderOutput(dataTable, element);\n",
              "          const docLink = document.createElement('div');\n",
              "          docLink.innerHTML = docLinkHtml;\n",
              "          element.appendChild(docLink);\n",
              "        }\n",
              "      </script>\n",
              "    </div>\n",
              "  </div>\n",
              "  "
            ]
          },
          "metadata": {},
          "execution_count": 21
        }
      ]
    },
    {
      "cell_type": "code",
      "source": [
        "# Type of machine relation to target failure?\n",
        "sns.countplot(data=data,\n",
        "            hue='Target',\n",
        "            x='Type')"
      ],
      "metadata": {
        "colab": {
          "base_uri": "https://localhost:8080/",
          "height": 298
        },
        "id": "V5zU3jZiYg4d",
        "outputId": "d5ac9e4f-4bea-4241-9b2f-e3392ab1aae1"
      },
      "execution_count": 22,
      "outputs": [
        {
          "output_type": "execute_result",
          "data": {
            "text/plain": [
              "<matplotlib.axes._subplots.AxesSubplot at 0x7f318d4e8050>"
            ]
          },
          "metadata": {},
          "execution_count": 22
        },
        {
          "output_type": "display_data",
          "data": {
            "text/plain": [
              "<Figure size 432x288 with 1 Axes>"
            ],
            "image/png": "[encoded data removed]"
          },
          "metadata": {
            "needs_background": "light"
          }
        }
      ]
    },
    {
      "cell_type": "markdown",
      "source": [
        "1. Let's say target = 1, means Failure, and admit_status = 0, means Not Failure\n",
        "2. We can say that, machine with Low capacity has more frequent to be Failure compare to High or Medium."
      ],
      "metadata": {
        "id": "mszFOEVUl6Fa"
      }
    },
    {
      "cell_type": "markdown",
      "source": [
        "## Multivariate Analysis"
      ],
      "metadata": {
        "id": "rP0tdC0rFoeG"
      }
    },
    {
      "cell_type": "code",
      "source": [
        "# Rank Encoding for Type feature\n",
        "### Create Dictionary\n",
        "type_dict = {'L':0,'M':1,'H':2}"
      ],
      "metadata": {
        "id": "TgOkIUJ8mLi2"
      },
      "execution_count": 23,
      "outputs": []
    },
    {
      "cell_type": "code",
      "source": [
        "data['Type'] = data['Type'].map(type_dict)\n",
        "data.head(2)"
      ],
      "metadata": {
        "id": "4fb5J-cHmkJa",
        "colab": {
          "base_uri": "https://localhost:8080/",
          "height": 112
        },
        "outputId": "aee671d9-bf63-45a9-e4fe-5e5df436a40f"
      },
      "execution_count": 24,
      "outputs": [
        {
          "output_type": "execute_result",
          "data": {
            "text/plain": [
              "   Type  Air temperature [K]  Process temperature [K]  Rotational speed [rpm]  \\\n",
              "0     1                298.1                    308.6                    1551   \n",
              "1     0                298.2                    308.7                    1408   \n",
              "\n",
              "   Torque [Nm]  Tool wear [min]  Target  \n",
              "0         42.8                0       0  \n",
              "1         46.3                3       0  "
            ],
            "text/html": [
              "\n",
              "  <div id=\"df-1143a462-ecc5-4a54-b6be-b0844ad3302e\">\n",
              "    <div class=\"colab-df-container\">\n",
              "      <div>\n",
              "<style scoped>\n",
              "    .dataframe tbody tr th:only-of-type {\n",
              "        vertical-align: middle;\n",
              "    }\n",
              "\n",
              "    .dataframe tbody tr th {\n",
              "        vertical-align: top;\n",
              "    }\n",
              "\n",
              "    .dataframe thead th {\n",
              "        text-align: right;\n",
              "    }\n",
              "</style>\n",
              "<table border=\"1\" class=\"dataframe\">\n",
              "  <thead>\n",
              "    <tr style=\"text-align: right;\">\n",
              "      <th></th>\n",
              "      <th>Type</th>\n",
              "      <th>Air temperature [K]</th>\n",
              "      <th>Process temperature [K]</th>\n",
              "      <th>Rotational speed [rpm]</th>\n",
              "      <th>Torque [Nm]</th>\n",
              "      <th>Tool wear [min]</th>\n",
              "      <th>Target</th>\n",
              "    </tr>\n",
              "  </thead>\n",
              "  <tbody>\n",
              "    <tr>\n",
              "      <th>0</th>\n",
              "      <td>1</td>\n",
              "      <td>298.1</td>\n",
              "      <td>308.6</td>\n",
              "      <td>1551</td>\n",
              "      <td>42.8</td>\n",
              "      <td>0</td>\n",
              "      <td>0</td>\n",
              "    </tr>\n",
              "    <tr>\n",
              "      <th>1</th>\n",
              "      <td>0</td>\n",
              "      <td>298.2</td>\n",
              "      <td>308.7</td>\n",
              "      <td>1408</td>\n",
              "      <td>46.3</td>\n",
              "      <td>3</td>\n",
              "      <td>0</td>\n",
              "    </tr>\n",
              "  </tbody>\n",
              "</table>\n",
              "</div>\n",
              "      <button class=\"colab-df-convert\" onclick=\"convertToInteractive('df-1143a462-ecc5-4a54-b6be-b0844ad3302e')\"\n",
              "              title=\"Convert this dataframe to an interactive table.\"\n",
              "              style=\"display:none;\">\n",
              "        \n",
              "  <svg xmlns=\"http://www.w3.org/2000/svg\" height=\"24px\"viewBox=\"0 0 24 24\"\n",
              "       width=\"24px\">\n",
              "    <path d=\"M0 0h24v24H0V0z\" fill=\"none\"/>\n",
              "    <path d=\"M18.56 5.44l.94 2.06.94-2.06 2.06-.94-2.06-.94-.94-2.06-.94 2.06-2.06.94zm-11 1L8.5 8.5l.94-2.06 2.06-.94-2.06-.94L8.5 2.5l-.94 2.06-2.06.94zm10 10l.94 2.06.94-2.06 2.06-.94-2.06-.94-.94-2.06-.94 2.06-2.06.94z\"/><path d=\"M17.41 7.96l-1.37-1.37c-.4-.4-.92-.59-1.43-.59-.52 0-1.04.2-1.43.59L10.3 9.45l-7.72 7.72c-.78.78-.78 2.05 0 2.83L4 21.41c.39.39.9.59 1.41.59.51 0 1.02-.2 1.41-.59l7.78-7.78 2.81-2.81c.8-.78.8-2.07 0-2.86zM5.41 20L4 18.59l7.72-7.72 1.47 1.35L5.41 20z\"/>\n",
              "  </svg>\n",
              "      </button>\n",
              "      \n",
              "  <style>\n",
              "    .colab-df-container {\n",
              "      display:flex;\n",
              "      flex-wrap:wrap;\n",
              "      gap: 12px;\n",
              "    }\n",
              "\n",
              "    .colab-df-convert {\n",
              "      background-color: #E8F0FE;\n",
              "      border: none;\n",
              "      border-radius: 50%;\n",
              "      cursor: pointer;\n",
              "      display: none;\n",
              "      fill: #1967D2;\n",
              "      height: 32px;\n",
              "      padding: 0 0 0 0;\n",
              "      width: 32px;\n",
              "    }\n",
              "\n",
              "    .colab-df-convert:hover {\n",
              "      background-color: #E2EBFA;\n",
              "      box-shadow: 0px 1px 2px rgba(60, 64, 67, 0.3), 0px 1px 3px 1px rgba(60, 64, 67, 0.15);\n",
              "      fill: #174EA6;\n",
              "    }\n",
              "\n",
              "    [theme=dark] .colab-df-convert {\n",
              "      background-color: #3B4455;\n",
              "      fill: #D2E3FC;\n",
              "    }\n",
              "\n",
              "    [theme=dark] .colab-df-convert:hover {\n",
              "      background-color: #434B5C;\n",
              "      box-shadow: 0px 1px 3px 1px rgba(0, 0, 0, 0.15);\n",
              "      filter: drop-shadow(0px 1px 2px rgba(0, 0, 0, 0.3));\n",
              "      fill: #FFFFFF;\n",
              "    }\n",
              "  </style>\n",
              "\n",
              "      <script>\n",
              "        const buttonEl =\n",
              "          document.querySelector('#df-1143a462-ecc5-4a54-b6be-b0844ad3302e button.colab-df-convert');\n",
              "        buttonEl.style.display =\n",
              "          google.colab.kernel.accessAllowed ? 'block' : 'none';\n",
              "\n",
              "        async function convertToInteractive(key) {\n",
              "          const element = document.querySelector('#df-1143a462-ecc5-4a54-b6be-b0844ad3302e');\n",
              "          const dataTable =\n",
              "            await google.colab.kernel.invokeFunction('convertToInteractive',\n",
              "                                                     [key], {});\n",
              "          if (!dataTable) return;\n",
              "\n",
              "          const docLinkHtml = 'Like what you see? Visit the ' +\n",
              "            '<a target=\"_blank\" href=https://colab.research.google.com/notebooks/data_table.ipynb>data table notebook</a>'\n",
              "            + ' to learn more about interactive tables.';\n",
              "          element.innerHTML = '';\n",
              "          dataTable['output_type'] = 'display_data';\n",
              "          await google.colab.output.renderOutput(dataTable, element);\n",
              "          const docLink = document.createElement('div');\n",
              "          docLink.innerHTML = docLinkHtml;\n",
              "          element.appendChild(docLink);\n",
              "        }\n",
              "      </script>\n",
              "    </div>\n",
              "  </div>\n",
              "  "
            ]
          },
          "metadata": {},
          "execution_count": 24
        }
      ]
    },
    {
      "cell_type": "code",
      "source": [
        "#check data type\n",
        "data.dtypes"
      ],
      "metadata": {
        "colab": {
          "base_uri": "https://localhost:8080/"
        },
        "id": "NotwUA3UwjiO",
        "outputId": "399d2030-6a15-4000-ad1b-c2e10535c5d3"
      },
      "execution_count": 25,
      "outputs": [
        {
          "output_type": "execute_result",
          "data": {
            "text/plain": [
              "Type                         int64\n",
              "Air temperature [K]        float64\n",
              "Process temperature [K]    float64\n",
              "Rotational speed [rpm]       int64\n",
              "Torque [Nm]                float64\n",
              "Tool wear [min]              int64\n",
              "Target                       int64\n",
              "dtype: object"
            ]
          },
          "metadata": {},
          "execution_count": 25
        }
      ]
    },
    {
      "cell_type": "markdown",
      "source": [
        "All data already numericals!"
      ],
      "metadata": {
        "id": "eGGvT1nVw1fA"
      }
    },
    {
      "cell_type": "markdown",
      "source": [
        "### Heatmap correlation"
      ],
      "metadata": {
        "id": "hdZa0mYfl9jn"
      }
    },
    {
      "cell_type": "code",
      "source": [
        "# correlation heatmap\n",
        "correlation = data.corr()\n",
        "sns.heatmap(correlation, annot=True, fmt='.2f')"
      ],
      "metadata": {
        "colab": {
          "base_uri": "https://localhost:8080/",
          "height": 397
        },
        "id": "d1PNuykLw0bQ",
        "outputId": "d9e2b426-746e-4ed6-eac0-f042c59225c5"
      },
      "execution_count": 26,
      "outputs": [
        {
          "output_type": "execute_result",
          "data": {
            "text/plain": [
              "<matplotlib.axes._subplots.AxesSubplot at 0x7f318d569190>"
            ]
          },
          "metadata": {},
          "execution_count": 26
        },
        {
          "output_type": "display_data",
          "data": {
            "text/plain": [
              "<Figure size 432x288 with 2 Axes>"
            ],
            "image/png": "[encoded data removed]"
          },
          "metadata": {
            "needs_background": "light"
          }
        }
      ]
    },
    {
      "cell_type": "markdown",
      "source": [
        "Observations:\n",
        "- There are higher positive correlation between `Air Temperature` & `Process Teperature`.\n",
        "- According to `Target` feature another column relatively has low correlation, but we will check later with the model."
      ],
      "metadata": {
        "id": "SM9qUjScxUKf"
      }
    },
    {
      "cell_type": "markdown",
      "source": [
        "# 4. Random Forest Model "
      ],
      "metadata": {
        "id": "pCR637p84_Zq"
      }
    },
    {
      "cell_type": "markdown",
      "source": [
        "## Check Target Features"
      ],
      "metadata": {
        "id": "Drdw60w4xxgz"
      }
    },
    {
      "cell_type": "code",
      "source": [
        "data['Target'].value_counts()"
      ],
      "metadata": {
        "colab": {
          "base_uri": "https://localhost:8080/"
        },
        "id": "P-8kdg-hx11M",
        "outputId": "ddec53d5-feec-4fa8-a0bb-5cf9b054e7be"
      },
      "execution_count": 27,
      "outputs": [
        {
          "output_type": "execute_result",
          "data": {
            "text/plain": [
              "0    9661\n",
              "1     339\n",
              "Name: Target, dtype: int64"
            ]
          },
          "metadata": {},
          "execution_count": 27
        }
      ]
    },
    {
      "cell_type": "markdown",
      "source": [
        "Observations:\n",
        "*   0 = No Failure Machine, 1 = Failure Machine\n",
        "*   Target data is imbalanced wth most of them No Failure Machine"
      ],
      "metadata": {
        "id": "SUwYVLh3x8rC"
      }
    },
    {
      "cell_type": "markdown",
      "source": [
        "## Classification Task Definition"
      ],
      "metadata": {
        "id": "WaxJla-myX8j"
      }
    },
    {
      "cell_type": "markdown",
      "source": [
        "Before going further lets make clear definition of classification task in this model:\n",
        "\n",
        "TASK = To Predict Condition of Machine Failure or Not Failure\n",
        "\n",
        "*   Failure = POSITIVE\n",
        "*   No Failure =  NEGATIVE\n",
        "\n",
        "*   TRUE POSITIVE = Predicted Failure, actual is Failure\n",
        "*   TRUE NEGATIVE = Predicted No Failure, actual is No Failure\n",
        "*   FALSE POSITIVE = Predicted Failure, actual is No Failure\n",
        "*   FALSE NEGATIVE = Predicted No Failure, actual is Failure\n",
        "\n",
        "Evaluation Metric:\n",
        "\n",
        "    - PRECISSION = TP/(TP+FP)\n",
        "\n",
        "    - RECALL = TP/(TP+FN)\n",
        "\n",
        "    - F1 SCORE = 2 * (precision * recall)/(precision + recall)\n",
        "\n",
        "    - ROC AUC\n",
        "\n",
        "ROC is a probability curve and AUC represents the degree or measure of separability (value between 0 to 1).\n",
        "The Area Under the Curve (AUC) is the measure of the ability of a classifier to distinguish between classes and is used as a summary of the ROC curve.\n",
        "***The higher the AUC, the better the performance of the model at distinguishing between the positive and negative classes.***\n",
        "\n",
        "In this case we wouldlike to **reduce FALSE NEGATIVE**, because it's more severe condition of Predicted No Failure, actual is Failure that could impact to Machine stop operating (loss more cost to Maintenance & Loss productive time).\n",
        "\n",
        "So that, we need Random Forest model with **high score of RECALL**,  higher RECALL means higher Sensitivity of the model, and aslo **high AUC probability value**."
      ],
      "metadata": {
        "id": "8Blr7WVNyplG"
      }
    },
    {
      "cell_type": "markdown",
      "source": [
        "## Dataset Splitting"
      ],
      "metadata": {
        "id": "WT3Qr8wAOhNt"
      }
    },
    {
      "cell_type": "markdown",
      "source": [
        "Spiltting data into two part:\n",
        "*   data training\n",
        "*   data testing"
      ],
      "metadata": {
        "id": "hPSwQGIS4JFU"
      }
    },
    {
      "cell_type": "code",
      "source": [
        "from sklearn.model_selection import train_test_split"
      ],
      "metadata": {
        "id": "PpPnEdcT-BLD"
      },
      "execution_count": 28,
      "outputs": []
    },
    {
      "cell_type": "code",
      "source": [
        "data_train, data_test = train_test_split(data, test_size = 0.25, random_state = 1) "
      ],
      "metadata": {
        "id": "RoIux1h6EURA"
      },
      "execution_count": 29,
      "outputs": []
    },
    {
      "cell_type": "code",
      "source": [
        "x_train_data = data_train.loc[:, data_train.columns!='Target']\n",
        "y_train_data = data_train.loc[:, data_train.columns=='Target']\n",
        "\n",
        "x_test_data = data_test.loc[:, data_test.columns!='Target']\n",
        "y_test_data = data_test.loc[:, data_test.columns=='Target']"
      ],
      "metadata": {
        "id": "dsAB0Cb55A4v"
      },
      "execution_count": 30,
      "outputs": []
    },
    {
      "cell_type": "markdown",
      "source": [
        "## Running the Model"
      ],
      "metadata": {
        "id": "8S8ob11-SiBX"
      }
    },
    {
      "cell_type": "code",
      "source": [
        "from sklearn.ensemble import RandomForestClassifier\n",
        "from sklearn.metrics import accuracy_score\n",
        "from sklearn.metrics import classification_report\n",
        "from sklearn.metrics import confusion_matrix"
      ],
      "metadata": {
        "id": "NlFUb30eSk1s"
      },
      "execution_count": 31,
      "outputs": []
    },
    {
      "cell_type": "code",
      "source": [
        "def evaluate(model, x_test = x_test_data, y_test = y_test_data):\n",
        "    y_pred = model.predict(x_test)    \n",
        "    print('Accuracy:', accuracy_score(y_test, y_pred))\n",
        "    print('------')\n",
        "    print('Confusion Matrix:')\n",
        "    print()\n",
        "    print(classification_report(y_test, y_pred))\n",
        "    print('------')\n",
        "    \n",
        "    tn, fp, fn, tp = confusion_matrix(y_test, y_pred).ravel()\n",
        "    print('Assuming 1 as positive, we get:')\n",
        "    print('')\n",
        "    print('True Positive:', tp)\n",
        "    print('True Negative:', tn)\n",
        "    print('False Positive:', fp)\n",
        "    print('False Negative:', fn)\n",
        "    \n",
        "    print('')\n",
        "    \n",
        "    precision = tp/(tp+fp)\n",
        "    recall = tp/(tp+fn)\n",
        "    \n",
        "    print('Precision:', precision)\n",
        "    print('Recall:', recall)\n",
        "    print('F1-Score:', 2 * (precision * recall)/(precision + recall))\n",
        "    print('-----')\n",
        "    print('ROC AUC')\n",
        "    \n",
        "    plot_roc_curve(model, x_test, y_test)\n",
        "    print('Area under Curve of the ROC:', roc_auc_score(y_test,\n",
        "                                                       model.predict_proba(x_test)[:,1]))\n",
        "    "
      ],
      "metadata": {
        "id": "igBvMgwES7rI"
      },
      "execution_count": 32,
      "outputs": []
    },
    {
      "cell_type": "markdown",
      "source": [
        "### Base Model"
      ],
      "metadata": {
        "id": "bGf3ywOS_33o"
      }
    },
    {
      "cell_type": "code",
      "source": [
        "base_model = RandomForestClassifier(random_state = 1, n_jobs = -1)\n",
        "base_model.fit(x_train_data, y_train_data)\n",
        "evaluate(base_model, x_test_data, y_test_data)"
      ],
      "metadata": {
        "id": "z1g8Ou4MTC7l",
        "colab": {
          "base_uri": "https://localhost:8080/",
          "height": 802
        },
        "outputId": "88c1c7bf-b487-4df2-f8ae-37bca605226a"
      },
      "execution_count": 33,
      "outputs": [
        {
          "output_type": "stream",
          "name": "stderr",
          "text": [
            "/usr/local/lib/python3.7/dist-packages/ipykernel_launcher.py:2: DataConversionWarning: A column-vector y was passed when a 1d array was expected. Please change the shape of y to (n_samples,), for example using ravel().\n",
            "  \n"
          ]
        },
        {
          "output_type": "stream",
          "name": "stdout",
          "text": [
            "Accuracy: 0.984\n",
            "------\n",
            "Confusion Matrix:\n",
            "\n",
            "              precision    recall  f1-score   support\n",
            "\n",
            "           0       0.99      1.00      0.99      2411\n",
            "           1       0.93      0.60      0.73        89\n",
            "\n",
            "    accuracy                           0.98      2500\n",
            "   macro avg       0.96      0.80      0.86      2500\n",
            "weighted avg       0.98      0.98      0.98      2500\n",
            "\n",
            "------\n",
            "Assuming 1 as positive, we get:\n",
            "\n",
            "True Positive: 53\n",
            "True Negative: 2407\n",
            "False Positive: 4\n",
            "False Negative: 36\n",
            "\n",
            "Precision: 0.9298245614035088\n",
            "Recall: 0.5955056179775281\n",
            "F1-Score: 0.726027397260274\n",
            "-----\n",
            "ROC AUC\n",
            "Area under Curve of the ROC: 0.977029439041099\n"
          ]
        },
        {
          "output_type": "display_data",
          "data": {
            "text/plain": [
              "<Figure size 432x288 with 1 Axes>"
            ],
            "image/png": "[encoded data removed]"
          },
          "metadata": {
            "needs_background": "light"
          }
        }
      ]
    },
    {
      "cell_type": "markdown",
      "source": [
        "Eventhough the model's accuracy scores is very high (see Precission score), this is because the imbalanced data. Because '1' is the 'positive', then the precision, recall, and f1-score of this model is poor because this model cannot predict positive values well. "
      ],
      "metadata": {
        "id": "46ZKShmC7urH"
      }
    },
    {
      "cell_type": "markdown",
      "source": [
        "### Undersampling"
      ],
      "metadata": {
        "id": "4dc_DwbQGbvG"
      }
    },
    {
      "cell_type": "markdown",
      "source": [
        "Undersampling balances the dataset by reducing the size of the abundant class.\n",
        "By keeping all samples in the rare class and randomly selecting an equal number of samples in the abundant class, a balanced new dataset can be retrieved for further modelling."
      ],
      "metadata": {
        "id": "wiOlH0mgGe3M"
      }
    },
    {
      "cell_type": "code",
      "source": [
        "# import random undersampling library \n",
        "from collections import Counter\n",
        "from imblearn.under_sampling import RandomUnderSampler\n",
        "import warnings\n",
        "warnings.simplefilter(action='ignore', category=FutureWarning)\n",
        "\n",
        "# summarize class distribution\n",
        "print('data target distribution before undersampled',Counter(y_train_data['Target']))\n",
        "\n",
        "# define undersample strategy\n",
        "undersample = RandomUnderSampler(sampling_strategy='majority')\n",
        "\n",
        "# fit and apply the transform\n",
        "x_train_under, y_train_under = undersample.fit_resample(x_train_data, \n",
        "                                                        y_train_data)\n",
        "\n",
        "# summarize class distribution\n",
        "print('data target distribution after undersampled',Counter(y_train_under['Target']))"
      ],
      "metadata": {
        "colab": {
          "base_uri": "https://localhost:8080/"
        },
        "id": "WyfjCB5NH3D0",
        "outputId": "509f7b08-4126-47ee-929f-4d7e24cdeccc"
      },
      "execution_count": 34,
      "outputs": [
        {
          "output_type": "stream",
          "name": "stdout",
          "text": [
            "data target distribution before undersampled Counter({0: 7250, 1: 250})\n",
            "data target distribution after undersampled Counter({0: 250, 1: 250})\n"
          ]
        }
      ]
    },
    {
      "cell_type": "code",
      "source": [
        "under_model = RandomForestClassifier(random_state = 1, n_jobs = -1)\n",
        "under_model.fit(x_train_under, y_train_under)\n",
        "evaluate(under_model, x_test_data, y_test_data)"
      ],
      "metadata": {
        "colab": {
          "base_uri": "https://localhost:8080/",
          "height": 802
        },
        "id": "tMP5hkXNIpWj",
        "outputId": "fe813008-2a6c-4641-cc11-14d0bca8f7d1"
      },
      "execution_count": 35,
      "outputs": [
        {
          "output_type": "stream",
          "name": "stderr",
          "text": [
            "/usr/local/lib/python3.7/dist-packages/ipykernel_launcher.py:2: DataConversionWarning: A column-vector y was passed when a 1d array was expected. Please change the shape of y to (n_samples,), for example using ravel().\n",
            "  \n"
          ]
        },
        {
          "output_type": "stream",
          "name": "stdout",
          "text": [
            "Accuracy: 0.912\n",
            "------\n",
            "Confusion Matrix:\n",
            "\n",
            "              precision    recall  f1-score   support\n",
            "\n",
            "           0       1.00      0.91      0.95      2411\n",
            "           1       0.29      0.98      0.44        89\n",
            "\n",
            "    accuracy                           0.91      2500\n",
            "   macro avg       0.64      0.94      0.70      2500\n",
            "weighted avg       0.97      0.91      0.93      2500\n",
            "\n",
            "------\n",
            "Assuming 1 as positive, we get:\n",
            "\n",
            "True Positive: 87\n",
            "True Negative: 2193\n",
            "False Positive: 218\n",
            "False Negative: 2\n",
            "\n",
            "Precision: 0.28524590163934427\n",
            "Recall: 0.9775280898876404\n",
            "F1-Score: 0.44162436548223355\n",
            "-----\n",
            "ROC AUC\n",
            "Area under Curve of the ROC: 0.9752468787719208\n"
          ]
        },
        {
          "output_type": "display_data",
          "data": {
            "text/plain": [
              "<Figure size 432x288 with 1 Axes>"
            ],
            "image/png": "[encoded data removed]"
          },
          "metadata": {
            "needs_background": "light"
          }
        }
      ]
    },
    {
      "cell_type": "markdown",
      "source": [
        "Suddenly, our model improves in the recall!\n",
        "\n",
        "Higher Recall means: Among data that actually Positive, 97% of them are predicted as Positive (correctly predicts positive data). But, Precission score is poor!!"
      ],
      "metadata": {
        "id": "OtFZUjrsI6Za"
      }
    },
    {
      "cell_type": "markdown",
      "source": [
        "### Oversampling"
      ],
      "metadata": {
        "id": "JByv1dI8JmrX"
      }
    },
    {
      "cell_type": "markdown",
      "source": [
        "Oversampling is used when the quantity of data is insufficient. \n",
        "It tries to balance dataset by increasing the size of rare samples."
      ],
      "metadata": {
        "id": "LOllOGf4Jnyu"
      }
    },
    {
      "cell_type": "code",
      "source": [
        "# import random undersampling library \n",
        "from collections import Counter\n",
        "from imblearn.over_sampling import SMOTE\n",
        "import warnings\n",
        "warnings.simplefilter(action='ignore', category=FutureWarning)\n",
        "\n",
        "# summarize class distribution\n",
        "print('data target distribution before oversampled',Counter(y_train_data['Target']))\n",
        "\n",
        "# define undersample strategy\n",
        "SMOTE = SMOTE()\n",
        "\n",
        "# fit and apply the transform\n",
        "x_train_SMOTE, y_train_SMOTE = SMOTE.fit_resample(x_train_data, y_train_data)\n",
        "\n",
        "# summarize class distribution\n",
        "print('data target distribution before oversampled',Counter(y_train_SMOTE['Target']))"
      ],
      "metadata": {
        "colab": {
          "base_uri": "https://localhost:8080/"
        },
        "id": "KXF1-BK9J5L7",
        "outputId": "4763ceed-d072-4f96-eeb3-31838ee2ee67"
      },
      "execution_count": 36,
      "outputs": [
        {
          "output_type": "stream",
          "name": "stdout",
          "text": [
            "data target distribution before oversampled Counter({0: 7250, 1: 250})\n",
            "data target distribution before oversampled Counter({0: 7250, 1: 7250})\n"
          ]
        }
      ]
    },
    {
      "cell_type": "code",
      "source": [
        "over_model = RandomForestClassifier(random_state = 1, n_jobs = -1)\n",
        "over_model.fit(x_train_SMOTE, y_train_SMOTE)\n",
        "evaluate(over_model, x_test_data, y_test_data)"
      ],
      "metadata": {
        "colab": {
          "base_uri": "https://localhost:8080/",
          "height": 802
        },
        "id": "ZIcu9b6yKTWU",
        "outputId": "a11a4ab3-c25c-4123-ddfc-70c967240eea"
      },
      "execution_count": 37,
      "outputs": [
        {
          "output_type": "stream",
          "name": "stderr",
          "text": [
            "/usr/local/lib/python3.7/dist-packages/ipykernel_launcher.py:2: DataConversionWarning: A column-vector y was passed when a 1d array was expected. Please change the shape of y to (n_samples,), for example using ravel().\n",
            "  \n"
          ]
        },
        {
          "output_type": "stream",
          "name": "stdout",
          "text": [
            "Accuracy: 0.9644\n",
            "------\n",
            "Confusion Matrix:\n",
            "\n",
            "              precision    recall  f1-score   support\n",
            "\n",
            "           0       0.99      0.97      0.98      2411\n",
            "           1       0.50      0.76      0.60        89\n",
            "\n",
            "    accuracy                           0.96      2500\n",
            "   macro avg       0.75      0.87      0.79      2500\n",
            "weighted avg       0.97      0.96      0.97      2500\n",
            "\n",
            "------\n",
            "Assuming 1 as positive, we get:\n",
            "\n",
            "True Positive: 68\n",
            "True Negative: 2343\n",
            "False Positive: 68\n",
            "False Negative: 21\n",
            "\n",
            "Precision: 0.5\n",
            "Recall: 0.7640449438202247\n",
            "F1-Score: 0.6044444444444443\n",
            "-----\n",
            "ROC AUC\n",
            "Area under Curve of the ROC: 0.9731404284669048\n"
          ]
        },
        {
          "output_type": "display_data",
          "data": {
            "text/plain": [
              "<Figure size 432x288 with 1 Axes>"
            ],
            "image/png": "[encoded data removed]"
          },
          "metadata": {
            "needs_background": "light"
          }
        }
      ]
    },
    {
      "cell_type": "markdown",
      "source": [
        "We are seeing improve Recall than undersampling model, but lower Precision than the Base model, and not so much different AUC probability value from Base & Undersampling model."
      ],
      "metadata": {
        "id": "0eieSYmoK0fv"
      }
    },
    {
      "cell_type": "markdown",
      "source": [
        "### Combining Oversampling and Undersampling"
      ],
      "metadata": {
        "id": "6JpoFq9CMFsz"
      }
    },
    {
      "cell_type": "code",
      "source": [
        "# import needed libraries \n",
        "from imblearn.pipeline import Pipeline\n",
        "from imblearn.under_sampling import RandomUnderSampler\n",
        "from imblearn.over_sampling import SMOTE\n",
        "\n",
        "# define pipeline\n",
        "combined_model = RandomForestClassifier(random_state = 1, n_jobs = -1)\n",
        "over = SMOTE(sampling_strategy=0.4)\n",
        "under = RandomUnderSampler(sampling_strategy=0.5)\n",
        "steps = [('o', over), ('u', under), ('model', combined_model)]\n",
        "pipeline = Pipeline(steps=steps)\n",
        "\n",
        "# evaluate pipeline\n",
        "pipeline.fit(x_train_data, y_train_data)\n",
        "evaluate(pipeline, x_test_data, y_test_data)"
      ],
      "metadata": {
        "colab": {
          "base_uri": "https://localhost:8080/",
          "height": 802
        },
        "id": "SMRHN7jMMGwV",
        "outputId": "7fe95695-7a14-4a9e-e42f-fb2a1dcc3aa4"
      },
      "execution_count": 38,
      "outputs": [
        {
          "output_type": "stream",
          "name": "stderr",
          "text": [
            "/usr/local/lib/python3.7/dist-packages/imblearn/pipeline.py:266: DataConversionWarning: A column-vector y was passed when a 1d array was expected. Please change the shape of y to (n_samples,), for example using ravel().\n",
            "  self._final_estimator.fit(Xt, yt, **fit_params_last_step)\n"
          ]
        },
        {
          "output_type": "stream",
          "name": "stdout",
          "text": [
            "Accuracy: 0.9724\n",
            "------\n",
            "Confusion Matrix:\n",
            "\n",
            "              precision    recall  f1-score   support\n",
            "\n",
            "           0       0.99      0.98      0.99      2411\n",
            "           1       0.58      0.80      0.67        89\n",
            "\n",
            "    accuracy                           0.97      2500\n",
            "   macro avg       0.79      0.89      0.83      2500\n",
            "weighted avg       0.98      0.97      0.97      2500\n",
            "\n",
            "------\n",
            "Assuming 1 as positive, we get:\n",
            "\n",
            "True Positive: 71\n",
            "True Negative: 2360\n",
            "False Positive: 51\n",
            "False Negative: 18\n",
            "\n",
            "Precision: 0.5819672131147541\n",
            "Recall: 0.797752808988764\n",
            "F1-Score: 0.6729857819905214\n",
            "-----\n",
            "ROC AUC\n",
            "Area under Curve of the ROC: 0.9790240424272645\n"
          ]
        },
        {
          "output_type": "display_data",
          "data": {
            "text/plain": [
              "<Figure size 432x288 with 1 Axes>"
            ],
            "image/png": "[encoded data removed]"
          },
          "metadata": {
            "needs_background": "light"
          }
        }
      ]
    },
    {
      "cell_type": "markdown",
      "source": [
        "By doing oversampling and then undersampling, we have a model that is the best in f1-score."
      ],
      "metadata": {
        "id": "zicgaAP_VGOY"
      }
    },
    {
      "cell_type": "markdown",
      "source": [
        "### Finding Best Coefficient of Oversampling and Undersampling"
      ],
      "metadata": {
        "id": "dhG44gdpVP6w"
      }
    },
    {
      "cell_type": "code",
      "source": [
        "from sklearn.metrics import accuracy_score\n",
        "from sklearn.metrics import precision_score\n",
        "from sklearn.metrics import recall_score\n",
        "from sklearn.metrics import f1_score\n",
        "from tqdm import tqdm\n",
        "\n",
        "import warnings\n",
        "warnings.simplefilter(action='ignore')\n",
        "\n",
        "oversampling_coef = [0.1,0.2,0.3,0.4,0.5,0.6,0.7,0.8,0.9,1]\n",
        "undersampling_coef = [0.1,0.2,0.3,0.4,0.5,0.6,0.7,0.8,0.9,1]\n",
        "\n",
        "result = {\n",
        "    'over_coef':[],\n",
        "    'under_coef':[],\n",
        "    'acc':[],\n",
        "    'prec':[],\n",
        "    'recall':[],\n",
        "    'f1':[]\n",
        "}\n",
        "\n",
        "for over_score in tqdm(oversampling_coef):\n",
        "    for under_score in undersampling_coef:\n",
        "        try:\n",
        "            combined_model = RandomForestClassifier(random_state = 1, n_jobs = -1)\n",
        "            over = SMOTE(sampling_strategy = over_score)\n",
        "            under = RandomUnderSampler(sampling_strategy = under_score)\n",
        "            steps = [('o', over), ('u', under), ('model', combined_model)]\n",
        "            pipeline = Pipeline(steps = steps)\n",
        "\n",
        "            pipeline.fit(x_train_data, y_train_data)\n",
        "            y_pred = pipeline.predict(x_test_data)\n",
        "\n",
        "            result['over_coef'].append(over_score)\n",
        "            result['under_coef'].append(under_score)\n",
        "            result['acc'].append(accuracy_score(y_test_data, y_pred))\n",
        "            result['prec'].append(precision_score(y_test_data, y_pred))\n",
        "            result['recall'].append(recall_score(y_test_data, y_pred))\n",
        "            result['f1'].append(f1_score(y_test_data, y_pred))\n",
        "        except:\n",
        "            pass\n",
        "        "
      ],
      "metadata": {
        "colab": {
          "base_uri": "https://localhost:8080/"
        },
        "id": "1dyUlo_sVPbu",
        "outputId": "f13e1ea2-6b19-4fa1-bee7-3f5ea1bbe664"
      },
      "execution_count": 39,
      "outputs": [
        {
          "output_type": "stream",
          "name": "stderr",
          "text": [
            "100%|██████████| 10/10 [00:56<00:00,  5.70s/it]\n"
          ]
        }
      ]
    },
    {
      "cell_type": "code",
      "source": [
        "data_result = pd.DataFrame(result)"
      ],
      "metadata": {
        "id": "EHHXfuOLV3q9"
      },
      "execution_count": 40,
      "outputs": []
    },
    {
      "cell_type": "code",
      "source": [
        "data_result"
      ],
      "metadata": {
        "colab": {
          "base_uri": "https://localhost:8080/",
          "height": 1000
        },
        "id": "4W4uUF_DV8Nj",
        "outputId": "ec33a9aa-e4a9-490a-edd1-81511591780b"
      },
      "execution_count": 41,
      "outputs": [
        {
          "output_type": "execute_result",
          "data": {
            "text/plain": [
              "    over_coef  under_coef     acc      prec    recall        f1\n",
              "0         0.1         0.1  0.9856  0.811765  0.775281  0.793103\n",
              "1         0.1         0.2  0.9772  0.637931  0.831461  0.721951\n",
              "2         0.1         0.3  0.9700  0.548611  0.887640  0.678112\n",
              "3         0.1         0.4  0.9584  0.456140  0.876404  0.600000\n",
              "4         0.1         0.5  0.9460  0.391509  0.932584  0.551495\n",
              "5         0.1         0.6  0.9504  0.413793  0.943820  0.575342\n",
              "6         0.1         0.7  0.9424  0.374429  0.921348  0.532468\n",
              "7         0.1         0.8  0.9312  0.334661  0.943820  0.494118\n",
              "8         0.1         0.9  0.9260  0.316794  0.932584  0.472934\n",
              "9         0.1         1.0  0.9248  0.314607  0.943820  0.471910\n",
              "10        0.2         0.2  0.9804  0.696078  0.797753  0.743455\n",
              "11        0.2         0.3  0.9728  0.586777  0.797753  0.676190\n",
              "12        0.2         0.4  0.9692  0.545455  0.808989  0.651584\n",
              "13        0.2         0.5  0.9612  0.474359  0.831461  0.604082\n",
              "14        0.2         0.6  0.9548  0.431818  0.853933  0.573585\n",
              "15        0.2         0.7  0.9504  0.409326  0.887640  0.560284\n",
              "16        0.2         0.8  0.9436  0.378505  0.910112  0.534653\n",
              "17        0.2         0.9  0.9352  0.344681  0.910112  0.500000\n",
              "18        0.2         1.0  0.9336  0.337553  0.898876  0.490798\n",
              "19        0.3         0.3  0.9744  0.610619  0.775281  0.683168\n",
              "20        0.3         0.4  0.9716  0.576271  0.764045  0.657005\n",
              "21        0.3         0.5  0.9660  0.514493  0.797753  0.625551\n",
              "22        0.3         0.6  0.9660  0.514085  0.820225  0.632035\n",
              "23        0.3         0.7  0.9560  0.439306  0.853933  0.580153\n",
              "24        0.3         0.8  0.9552  0.432749  0.831461  0.569231\n",
              "25        0.3         0.9  0.9504  0.407407  0.865169  0.553957\n",
              "26        0.3         1.0  0.9480  0.396985  0.887640  0.548611\n",
              "27        0.4         0.4  0.9720  0.579832  0.775281  0.663462\n",
              "28        0.4         0.5  0.9684  0.537313  0.808989  0.645740\n",
              "29        0.4         0.6  0.9680  0.534351  0.786517  0.636364\n",
              "30        0.4         0.7  0.9624  0.482993  0.797753  0.601695\n",
              "31        0.4         0.8  0.9552  0.433526  0.842697  0.572519\n",
              "32        0.4         0.9  0.9560  0.438596  0.842697  0.576923\n",
              "33        0.4         1.0  0.9452  0.381188  0.865169  0.529210\n",
              "34        0.5         0.5  0.9716  0.572581  0.797753  0.666667\n",
              "35        0.5         0.6  0.9684  0.539683  0.764045  0.632558\n",
              "36        0.5         0.7  0.9640  0.496552  0.808989  0.615385\n",
              "37        0.5         0.8  0.9624  0.484076  0.853933  0.617886\n",
              "38        0.5         0.9  0.9540  0.423529  0.808989  0.555985\n",
              "39        0.5         1.0  0.9504  0.404372  0.831461  0.544118\n",
              "40        0.6         0.6  0.9692  0.545455  0.808989  0.651584\n",
              "41        0.6         0.7  0.9684  0.537313  0.808989  0.645740\n",
              "42        0.6         0.8  0.9636  0.493056  0.797753  0.609442\n",
              "43        0.6         0.9  0.9556  0.432927  0.797753  0.561265\n",
              "44        0.6         1.0  0.9596  0.460526  0.786517  0.580913\n",
              "45        0.7         0.7  0.9680  0.533835  0.797753  0.639640\n",
              "46        0.7         0.8  0.9644  0.500000  0.808989  0.618026\n",
              "47        0.7         0.9  0.9588  0.453333  0.764045  0.569038\n",
              "48        0.7         1.0  0.9572  0.443038  0.786517  0.566802\n",
              "49        0.8         0.8  0.9668  0.521739  0.808989  0.634361\n",
              "50        0.8         0.9  0.9632  0.489655  0.797753  0.606838\n",
              "51        0.8         1.0  0.9588  0.453947  0.775281  0.572614\n",
              "52        0.9         0.9  0.9668  0.522388  0.786517  0.627803\n",
              "53        0.9         1.0  0.9624  0.482759  0.786517  0.598291\n",
              "54        1.0         1.0  0.9616  0.475177  0.752809  0.582609"
            ],
            "text/html": [
              "\n",
              "  <div id=\"df-0a01c813-b2bd-4ee7-8f09-fbf11724f54e\">\n",
              "    <div class=\"colab-df-container\">\n",
              "      <div>\n",
              "<style scoped>\n",
              "    .dataframe tbody tr th:only-of-type {\n",
              "        vertical-align: middle;\n",
              "    }\n",
              "\n",
              "    .dataframe tbody tr th {\n",
              "        vertical-align: top;\n",
              "    }\n",
              "\n",
              "    .dataframe thead th {\n",
              "        text-align: right;\n",
              "    }\n",
              "</style>\n",
              "<table border=\"1\" class=\"dataframe\">\n",
              "  <thead>\n",
              "    <tr style=\"text-align: right;\">\n",
              "      <th></th>\n",
              "      <th>over_coef</th>\n",
              "      <th>under_coef</th>\n",
              "      <th>acc</th>\n",
              "      <th>prec</th>\n",
              "      <th>recall</th>\n",
              "      <th>f1</th>\n",
              "    </tr>\n",
              "  </thead>\n",
              "  <tbody>\n",
              "    <tr>\n",
              "      <th>0</th>\n",
              "      <td>0.1</td>\n",
              "      <td>0.1</td>\n",
              "      <td>0.9856</td>\n",
              "      <td>0.811765</td>\n",
              "      <td>0.775281</td>\n",
              "      <td>0.793103</td>\n",
              "    </tr>\n",
              "    <tr>\n",
              "      <th>1</th>\n",
              "      <td>0.1</td>\n",
              "      <td>0.2</td>\n",
              "      <td>0.9772</td>\n",
              "      <td>0.637931</td>\n",
              "      <td>0.831461</td>\n",
              "      <td>0.721951</td>\n",
              "    </tr>\n",
              "    <tr>\n",
              "      <th>2</th>\n",
              "      <td>0.1</td>\n",
              "      <td>0.3</td>\n",
              "      <td>0.9700</td>\n",
              "      <td>0.548611</td>\n",
              "      <td>0.887640</td>\n",
              "      <td>0.678112</td>\n",
              "    </tr>\n",
              "    <tr>\n",
              "      <th>3</th>\n",
              "      <td>0.1</td>\n",
              "      <td>0.4</td>\n",
              "      <td>0.9584</td>\n",
              "      <td>0.456140</td>\n",
              "      <td>0.876404</td>\n",
              "      <td>0.600000</td>\n",
              "    </tr>\n",
              "    <tr>\n",
              "      <th>4</th>\n",
              "      <td>0.1</td>\n",
              "      <td>0.5</td>\n",
              "      <td>0.9460</td>\n",
              "      <td>0.391509</td>\n",
              "      <td>0.932584</td>\n",
              "      <td>0.551495</td>\n",
              "    </tr>\n",
              "    <tr>\n",
              "      <th>5</th>\n",
              "      <td>0.1</td>\n",
              "      <td>0.6</td>\n",
              "      <td>0.9504</td>\n",
              "      <td>0.413793</td>\n",
              "      <td>0.943820</td>\n",
              "      <td>0.575342</td>\n",
              "    </tr>\n",
              "    <tr>\n",
              "      <th>6</th>\n",
              "      <td>0.1</td>\n",
              "      <td>0.7</td>\n",
              "      <td>0.9424</td>\n",
              "      <td>0.374429</td>\n",
              "      <td>0.921348</td>\n",
              "      <td>0.532468</td>\n",
              "    </tr>\n",
              "    <tr>\n",
              "      <th>7</th>\n",
              "      <td>0.1</td>\n",
              "      <td>0.8</td>\n",
              "      <td>0.9312</td>\n",
              "      <td>0.334661</td>\n",
              "      <td>0.943820</td>\n",
              "      <td>0.494118</td>\n",
              "    </tr>\n",
              "    <tr>\n",
              "      <th>8</th>\n",
              "      <td>0.1</td>\n",
              "      <td>0.9</td>\n",
              "      <td>0.9260</td>\n",
              "      <td>0.316794</td>\n",
              "      <td>0.932584</td>\n",
              "      <td>0.472934</td>\n",
              "    </tr>\n",
              "    <tr>\n",
              "      <th>9</th>\n",
              "      <td>0.1</td>\n",
              "      <td>1.0</td>\n",
              "      <td>0.9248</td>\n",
              "      <td>0.314607</td>\n",
              "      <td>0.943820</td>\n",
              "      <td>0.471910</td>\n",
              "    </tr>\n",
              "    <tr>\n",
              "      <th>10</th>\n",
              "      <td>0.2</td>\n",
              "      <td>0.2</td>\n",
              "      <td>0.9804</td>\n",
              "      <td>0.696078</td>\n",
              "      <td>0.797753</td>\n",
              "      <td>0.743455</td>\n",
              "    </tr>\n",
              "    <tr>\n",
              "      <th>11</th>\n",
              "      <td>0.2</td>\n",
              "      <td>0.3</td>\n",
              "      <td>0.9728</td>\n",
              "      <td>0.586777</td>\n",
              "      <td>0.797753</td>\n",
              "      <td>0.676190</td>\n",
              "    </tr>\n",
              "    <tr>\n",
              "      <th>12</th>\n",
              "      <td>0.2</td>\n",
              "      <td>0.4</td>\n",
              "      <td>0.9692</td>\n",
              "      <td>0.545455</td>\n",
              "      <td>0.808989</td>\n",
              "      <td>0.651584</td>\n",
              "    </tr>\n",
              "    <tr>\n",
              "      <th>13</th>\n",
              "      <td>0.2</td>\n",
              "      <td>0.5</td>\n",
              "      <td>0.9612</td>\n",
              "      <td>0.474359</td>\n",
              "      <td>0.831461</td>\n",
              "      <td>0.604082</td>\n",
              "    </tr>\n",
              "    <tr>\n",
              "      <th>14</th>\n",
              "      <td>0.2</td>\n",
              "      <td>0.6</td>\n",
              "      <td>0.9548</td>\n",
              "      <td>0.431818</td>\n",
              "      <td>0.853933</td>\n",
              "      <td>0.573585</td>\n",
              "    </tr>\n",
              "    <tr>\n",
              "      <th>15</th>\n",
              "      <td>0.2</td>\n",
              "      <td>0.7</td>\n",
              "      <td>0.9504</td>\n",
              "      <td>0.409326</td>\n",
              "      <td>0.887640</td>\n",
              "      <td>0.560284</td>\n",
              "    </tr>\n",
              "    <tr>\n",
              "      <th>16</th>\n",
              "      <td>0.2</td>\n",
              "      <td>0.8</td>\n",
              "      <td>0.9436</td>\n",
              "      <td>0.378505</td>\n",
              "      <td>0.910112</td>\n",
              "      <td>0.534653</td>\n",
              "    </tr>\n",
              "    <tr>\n",
              "      <th>17</th>\n",
              "      <td>0.2</td>\n",
              "      <td>0.9</td>\n",
              "      <td>0.9352</td>\n",
              "      <td>0.344681</td>\n",
              "      <td>0.910112</td>\n",
              "      <td>0.500000</td>\n",
              "    </tr>\n",
              "    <tr>\n",
              "      <th>18</th>\n",
              "      <td>0.2</td>\n",
              "      <td>1.0</td>\n",
              "      <td>0.9336</td>\n",
              "      <td>0.337553</td>\n",
              "      <td>0.898876</td>\n",
              "      <td>0.490798</td>\n",
              "    </tr>\n",
              "    <tr>\n",
              "      <th>19</th>\n",
              "      <td>0.3</td>\n",
              "      <td>0.3</td>\n",
              "      <td>0.9744</td>\n",
              "      <td>0.610619</td>\n",
              "      <td>0.775281</td>\n",
              "      <td>0.683168</td>\n",
              "    </tr>\n",
              "    <tr>\n",
              "      <th>20</th>\n",
              "      <td>0.3</td>\n",
              "      <td>0.4</td>\n",
              "      <td>0.9716</td>\n",
              "      <td>0.576271</td>\n",
              "      <td>0.764045</td>\n",
              "      <td>0.657005</td>\n",
              "    </tr>\n",
              "    <tr>\n",
              "      <th>21</th>\n",
              "      <td>0.3</td>\n",
              "      <td>0.5</td>\n",
              "      <td>0.9660</td>\n",
              "      <td>0.514493</td>\n",
              "      <td>0.797753</td>\n",
              "      <td>0.625551</td>\n",
              "    </tr>\n",
              "    <tr>\n",
              "      <th>22</th>\n",
              "      <td>0.3</td>\n",
              "      <td>0.6</td>\n",
              "      <td>0.9660</td>\n",
              "      <td>0.514085</td>\n",
              "      <td>0.820225</td>\n",
              "      <td>0.632035</td>\n",
              "    </tr>\n",
              "    <tr>\n",
              "      <th>23</th>\n",
              "      <td>0.3</td>\n",
              "      <td>0.7</td>\n",
              "      <td>0.9560</td>\n",
              "      <td>0.439306</td>\n",
              "      <td>0.853933</td>\n",
              "      <td>0.580153</td>\n",
              "    </tr>\n",
              "    <tr>\n",
              "      <th>24</th>\n",
              "      <td>0.3</td>\n",
              "      <td>0.8</td>\n",
              "      <td>0.9552</td>\n",
              "      <td>0.432749</td>\n",
              "      <td>0.831461</td>\n",
              "      <td>0.569231</td>\n",
              "    </tr>\n",
              "    <tr>\n",
              "      <th>25</th>\n",
              "      <td>0.3</td>\n",
              "      <td>0.9</td>\n",
              "      <td>0.9504</td>\n",
              "      <td>0.407407</td>\n",
              "      <td>0.865169</td>\n",
              "      <td>0.553957</td>\n",
              "    </tr>\n",
              "    <tr>\n",
              "      <th>26</th>\n",
              "      <td>0.3</td>\n",
              "      <td>1.0</td>\n",
              "      <td>0.9480</td>\n",
              "      <td>0.396985</td>\n",
              "      <td>0.887640</td>\n",
              "      <td>0.548611</td>\n",
              "    </tr>\n",
              "    <tr>\n",
              "      <th>27</th>\n",
              "      <td>0.4</td>\n",
              "      <td>0.4</td>\n",
              "      <td>0.9720</td>\n",
              "      <td>0.579832</td>\n",
              "      <td>0.775281</td>\n",
              "      <td>0.663462</td>\n",
              "    </tr>\n",
              "    <tr>\n",
              "      <th>28</th>\n",
              "      <td>0.4</td>\n",
              "      <td>0.5</td>\n",
              "      <td>0.9684</td>\n",
              "      <td>0.537313</td>\n",
              "      <td>0.808989</td>\n",
              "      <td>0.645740</td>\n",
              "    </tr>\n",
              "    <tr>\n",
              "      <th>29</th>\n",
              "      <td>0.4</td>\n",
              "      <td>0.6</td>\n",
              "      <td>0.9680</td>\n",
              "      <td>0.534351</td>\n",
              "      <td>0.786517</td>\n",
              "      <td>0.636364</td>\n",
              "    </tr>\n",
              "    <tr>\n",
              "      <th>30</th>\n",
              "      <td>0.4</td>\n",
              "      <td>0.7</td>\n",
              "      <td>0.9624</td>\n",
              "      <td>0.482993</td>\n",
              "      <td>0.797753</td>\n",
              "      <td>0.601695</td>\n",
              "    </tr>\n",
              "    <tr>\n",
              "      <th>31</th>\n",
              "      <td>0.4</td>\n",
              "      <td>0.8</td>\n",
              "      <td>0.9552</td>\n",
              "      <td>0.433526</td>\n",
              "      <td>0.842697</td>\n",
              "      <td>0.572519</td>\n",
              "    </tr>\n",
              "    <tr>\n",
              "      <th>32</th>\n",
              "      <td>0.4</td>\n",
              "      <td>0.9</td>\n",
              "      <td>0.9560</td>\n",
              "      <td>0.438596</td>\n",
              "      <td>0.842697</td>\n",
              "      <td>0.576923</td>\n",
              "    </tr>\n",
              "    <tr>\n",
              "      <th>33</th>\n",
              "      <td>0.4</td>\n",
              "      <td>1.0</td>\n",
              "      <td>0.9452</td>\n",
              "      <td>0.381188</td>\n",
              "      <td>0.865169</td>\n",
              "      <td>0.529210</td>\n",
              "    </tr>\n",
              "    <tr>\n",
              "      <th>34</th>\n",
              "      <td>0.5</td>\n",
              "      <td>0.5</td>\n",
              "      <td>0.9716</td>\n",
              "      <td>0.572581</td>\n",
              "      <td>0.797753</td>\n",
              "      <td>0.666667</td>\n",
              "    </tr>\n",
              "    <tr>\n",
              "      <th>35</th>\n",
              "      <td>0.5</td>\n",
              "      <td>0.6</td>\n",
              "      <td>0.9684</td>\n",
              "      <td>0.539683</td>\n",
              "      <td>0.764045</td>\n",
              "      <td>0.632558</td>\n",
              "    </tr>\n",
              "    <tr>\n",
              "      <th>36</th>\n",
              "      <td>0.5</td>\n",
              "      <td>0.7</td>\n",
              "      <td>0.9640</td>\n",
              "      <td>0.496552</td>\n",
              "      <td>0.808989</td>\n",
              "      <td>0.615385</td>\n",
              "    </tr>\n",
              "    <tr>\n",
              "      <th>37</th>\n",
              "      <td>0.5</td>\n",
              "      <td>0.8</td>\n",
              "      <td>0.9624</td>\n",
              "      <td>0.484076</td>\n",
              "      <td>0.853933</td>\n",
              "      <td>0.617886</td>\n",
              "    </tr>\n",
              "    <tr>\n",
              "      <th>38</th>\n",
              "      <td>0.5</td>\n",
              "      <td>0.9</td>\n",
              "      <td>0.9540</td>\n",
              "      <td>0.423529</td>\n",
              "      <td>0.808989</td>\n",
              "      <td>0.555985</td>\n",
              "    </tr>\n",
              "    <tr>\n",
              "      <th>39</th>\n",
              "      <td>0.5</td>\n",
              "      <td>1.0</td>\n",
              "      <td>0.9504</td>\n",
              "      <td>0.404372</td>\n",
              "      <td>0.831461</td>\n",
              "      <td>0.544118</td>\n",
              "    </tr>\n",
              "    <tr>\n",
              "      <th>40</th>\n",
              "      <td>0.6</td>\n",
              "      <td>0.6</td>\n",
              "      <td>0.9692</td>\n",
              "      <td>0.545455</td>\n",
              "      <td>0.808989</td>\n",
              "      <td>0.651584</td>\n",
              "    </tr>\n",
              "    <tr>\n",
              "      <th>41</th>\n",
              "      <td>0.6</td>\n",
              "      <td>0.7</td>\n",
              "      <td>0.9684</td>\n",
              "      <td>0.537313</td>\n",
              "      <td>0.808989</td>\n",
              "      <td>0.645740</td>\n",
              "    </tr>\n",
              "    <tr>\n",
              "      <th>42</th>\n",
              "      <td>0.6</td>\n",
              "      <td>0.8</td>\n",
              "      <td>0.9636</td>\n",
              "      <td>0.493056</td>\n",
              "      <td>0.797753</td>\n",
              "      <td>0.609442</td>\n",
              "    </tr>\n",
              "    <tr>\n",
              "      <th>43</th>\n",
              "      <td>0.6</td>\n",
              "      <td>0.9</td>\n",
              "      <td>0.9556</td>\n",
              "      <td>0.432927</td>\n",
              "      <td>0.797753</td>\n",
              "      <td>0.561265</td>\n",
              "    </tr>\n",
              "    <tr>\n",
              "      <th>44</th>\n",
              "      <td>0.6</td>\n",
              "      <td>1.0</td>\n",
              "      <td>0.9596</td>\n",
              "      <td>0.460526</td>\n",
              "      <td>0.786517</td>\n",
              "      <td>0.580913</td>\n",
              "    </tr>\n",
              "    <tr>\n",
              "      <th>45</th>\n",
              "      <td>0.7</td>\n",
              "      <td>0.7</td>\n",
              "      <td>0.9680</td>\n",
              "      <td>0.533835</td>\n",
              "      <td>0.797753</td>\n",
              "      <td>0.639640</td>\n",
              "    </tr>\n",
              "    <tr>\n",
              "      <th>46</th>\n",
              "      <td>0.7</td>\n",
              "      <td>0.8</td>\n",
              "      <td>0.9644</td>\n",
              "      <td>0.500000</td>\n",
              "      <td>0.808989</td>\n",
              "      <td>0.618026</td>\n",
              "    </tr>\n",
              "    <tr>\n",
              "      <th>47</th>\n",
              "      <td>0.7</td>\n",
              "      <td>0.9</td>\n",
              "      <td>0.9588</td>\n",
              "      <td>0.453333</td>\n",
              "      <td>0.764045</td>\n",
              "      <td>0.569038</td>\n",
              "    </tr>\n",
              "    <tr>\n",
              "      <th>48</th>\n",
              "      <td>0.7</td>\n",
              "      <td>1.0</td>\n",
              "      <td>0.9572</td>\n",
              "      <td>0.443038</td>\n",
              "      <td>0.786517</td>\n",
              "      <td>0.566802</td>\n",
              "    </tr>\n",
              "    <tr>\n",
              "      <th>49</th>\n",
              "      <td>0.8</td>\n",
              "      <td>0.8</td>\n",
              "      <td>0.9668</td>\n",
              "      <td>0.521739</td>\n",
              "      <td>0.808989</td>\n",
              "      <td>0.634361</td>\n",
              "    </tr>\n",
              "    <tr>\n",
              "      <th>50</th>\n",
              "      <td>0.8</td>\n",
              "      <td>0.9</td>\n",
              "      <td>0.9632</td>\n",
              "      <td>0.489655</td>\n",
              "      <td>0.797753</td>\n",
              "      <td>0.606838</td>\n",
              "    </tr>\n",
              "    <tr>\n",
              "      <th>51</th>\n",
              "      <td>0.8</td>\n",
              "      <td>1.0</td>\n",
              "      <td>0.9588</td>\n",
              "      <td>0.453947</td>\n",
              "      <td>0.775281</td>\n",
              "      <td>0.572614</td>\n",
              "    </tr>\n",
              "    <tr>\n",
              "      <th>52</th>\n",
              "      <td>0.9</td>\n",
              "      <td>0.9</td>\n",
              "      <td>0.9668</td>\n",
              "      <td>0.522388</td>\n",
              "      <td>0.786517</td>\n",
              "      <td>0.627803</td>\n",
              "    </tr>\n",
              "    <tr>\n",
              "      <th>53</th>\n",
              "      <td>0.9</td>\n",
              "      <td>1.0</td>\n",
              "      <td>0.9624</td>\n",
              "      <td>0.482759</td>\n",
              "      <td>0.786517</td>\n",
              "      <td>0.598291</td>\n",
              "    </tr>\n",
              "    <tr>\n",
              "      <th>54</th>\n",
              "      <td>1.0</td>\n",
              "      <td>1.0</td>\n",
              "      <td>0.9616</td>\n",
              "      <td>0.475177</td>\n",
              "      <td>0.752809</td>\n",
              "      <td>0.582609</td>\n",
              "    </tr>\n",
              "  </tbody>\n",
              "</table>\n",
              "</div>\n",
              "      <button class=\"colab-df-convert\" onclick=\"convertToInteractive('df-0a01c813-b2bd-4ee7-8f09-fbf11724f54e')\"\n",
              "              title=\"Convert this dataframe to an interactive table.\"\n",
              "              style=\"display:none;\">\n",
              "        \n",
              "  <svg xmlns=\"http://www.w3.org/2000/svg\" height=\"24px\"viewBox=\"0 0 24 24\"\n",
              "       width=\"24px\">\n",
              "    <path d=\"M0 0h24v24H0V0z\" fill=\"none\"/>\n",
              "    <path d=\"M18.56 5.44l.94 2.06.94-2.06 2.06-.94-2.06-.94-.94-2.06-.94 2.06-2.06.94zm-11 1L8.5 8.5l.94-2.06 2.06-.94-2.06-.94L8.5 2.5l-.94 2.06-2.06.94zm10 10l.94 2.06.94-2.06 2.06-.94-2.06-.94-.94-2.06-.94 2.06-2.06.94z\"/><path d=\"M17.41 7.96l-1.37-1.37c-.4-.4-.92-.59-1.43-.59-.52 0-1.04.2-1.43.59L10.3 9.45l-7.72 7.72c-.78.78-.78 2.05 0 2.83L4 21.41c.39.39.9.59 1.41.59.51 0 1.02-.2 1.41-.59l7.78-7.78 2.81-2.81c.8-.78.8-2.07 0-2.86zM5.41 20L4 18.59l7.72-7.72 1.47 1.35L5.41 20z\"/>\n",
              "  </svg>\n",
              "      </button>\n",
              "      \n",
              "  <style>\n",
              "    .colab-df-container {\n",
              "      display:flex;\n",
              "      flex-wrap:wrap;\n",
              "      gap: 12px;\n",
              "    }\n",
              "\n",
              "    .colab-df-convert {\n",
              "      background-color: #E8F0FE;\n",
              "      border: none;\n",
              "      border-radius: 50%;\n",
              "      cursor: pointer;\n",
              "      display: none;\n",
              "      fill: #1967D2;\n",
              "      height: 32px;\n",
              "      padding: 0 0 0 0;\n",
              "      width: 32px;\n",
              "    }\n",
              "\n",
              "    .colab-df-convert:hover {\n",
              "      background-color: #E2EBFA;\n",
              "      box-shadow: 0px 1px 2px rgba(60, 64, 67, 0.3), 0px 1px 3px 1px rgba(60, 64, 67, 0.15);\n",
              "      fill: #174EA6;\n",
              "    }\n",
              "\n",
              "    [theme=dark] .colab-df-convert {\n",
              "      background-color: #3B4455;\n",
              "      fill: #D2E3FC;\n",
              "    }\n",
              "\n",
              "    [theme=dark] .colab-df-convert:hover {\n",
              "      background-color: #434B5C;\n",
              "      box-shadow: 0px 1px 3px 1px rgba(0, 0, 0, 0.15);\n",
              "      filter: drop-shadow(0px 1px 2px rgba(0, 0, 0, 0.3));\n",
              "      fill: #FFFFFF;\n",
              "    }\n",
              "  </style>\n",
              "\n",
              "      <script>\n",
              "        const buttonEl =\n",
              "          document.querySelector('#df-0a01c813-b2bd-4ee7-8f09-fbf11724f54e button.colab-df-convert');\n",
              "        buttonEl.style.display =\n",
              "          google.colab.kernel.accessAllowed ? 'block' : 'none';\n",
              "\n",
              "        async function convertToInteractive(key) {\n",
              "          const element = document.querySelector('#df-0a01c813-b2bd-4ee7-8f09-fbf11724f54e');\n",
              "          const dataTable =\n",
              "            await google.colab.kernel.invokeFunction('convertToInteractive',\n",
              "                                                     [key], {});\n",
              "          if (!dataTable) return;\n",
              "\n",
              "          const docLinkHtml = 'Like what you see? Visit the ' +\n",
              "            '<a target=\"_blank\" href=https://colab.research.google.com/notebooks/data_table.ipynb>data table notebook</a>'\n",
              "            + ' to learn more about interactive tables.';\n",
              "          element.innerHTML = '';\n",
              "          dataTable['output_type'] = 'display_data';\n",
              "          await google.colab.output.renderOutput(dataTable, element);\n",
              "          const docLink = document.createElement('div');\n",
              "          docLink.innerHTML = docLinkHtml;\n",
              "          element.appendChild(docLink);\n",
              "        }\n",
              "      </script>\n",
              "    </div>\n",
              "  </div>\n",
              "  "
            ]
          },
          "metadata": {},
          "execution_count": 41
        }
      ]
    },
    {
      "cell_type": "markdown",
      "source": [
        "# 5. Evaluation, Choose The Best Model & Check Feature Importance"
      ],
      "metadata": {
        "id": "DmyKmr_mVqt0"
      }
    },
    {
      "cell_type": "markdown",
      "source": [
        "## Model with highest accuracy"
      ],
      "metadata": {
        "id": "msZYpIWHWUr0"
      }
    },
    {
      "cell_type": "code",
      "source": [
        "highest_accuracy = data_result.sort_values(['acc'], ascending = [False])\n",
        "highest_accuracy.head(1)"
      ],
      "metadata": {
        "colab": {
          "base_uri": "https://localhost:8080/",
          "height": 81
        },
        "id": "Ewj3b90YZvIx",
        "outputId": "42d71424-3987-4ed7-e177-ca3407a39fc4"
      },
      "execution_count": 42,
      "outputs": [
        {
          "output_type": "execute_result",
          "data": {
            "text/plain": [
              "   over_coef  under_coef     acc      prec    recall        f1\n",
              "0        0.1         0.1  0.9856  0.811765  0.775281  0.793103"
            ],
            "text/html": [
              "\n",
              "  <div id=\"df-6bfdf8fc-c101-4c9e-a9d1-38fdf96a5198\">\n",
              "    <div class=\"colab-df-container\">\n",
              "      <div>\n",
              "<style scoped>\n",
              "    .dataframe tbody tr th:only-of-type {\n",
              "        vertical-align: middle;\n",
              "    }\n",
              "\n",
              "    .dataframe tbody tr th {\n",
              "        vertical-align: top;\n",
              "    }\n",
              "\n",
              "    .dataframe thead th {\n",
              "        text-align: right;\n",
              "    }\n",
              "</style>\n",
              "<table border=\"1\" class=\"dataframe\">\n",
              "  <thead>\n",
              "    <tr style=\"text-align: right;\">\n",
              "      <th></th>\n",
              "      <th>over_coef</th>\n",
              "      <th>under_coef</th>\n",
              "      <th>acc</th>\n",
              "      <th>prec</th>\n",
              "      <th>recall</th>\n",
              "      <th>f1</th>\n",
              "    </tr>\n",
              "  </thead>\n",
              "  <tbody>\n",
              "    <tr>\n",
              "      <th>0</th>\n",
              "      <td>0.1</td>\n",
              "      <td>0.1</td>\n",
              "      <td>0.9856</td>\n",
              "      <td>0.811765</td>\n",
              "      <td>0.775281</td>\n",
              "      <td>0.793103</td>\n",
              "    </tr>\n",
              "  </tbody>\n",
              "</table>\n",
              "</div>\n",
              "      <button class=\"colab-df-convert\" onclick=\"convertToInteractive('df-6bfdf8fc-c101-4c9e-a9d1-38fdf96a5198')\"\n",
              "              title=\"Convert this dataframe to an interactive table.\"\n",
              "              style=\"display:none;\">\n",
              "        \n",
              "  <svg xmlns=\"http://www.w3.org/2000/svg\" height=\"24px\"viewBox=\"0 0 24 24\"\n",
              "       width=\"24px\">\n",
              "    <path d=\"M0 0h24v24H0V0z\" fill=\"none\"/>\n",
              "    <path d=\"M18.56 5.44l.94 2.06.94-2.06 2.06-.94-2.06-.94-.94-2.06-.94 2.06-2.06.94zm-11 1L8.5 8.5l.94-2.06 2.06-.94-2.06-.94L8.5 2.5l-.94 2.06-2.06.94zm10 10l.94 2.06.94-2.06 2.06-.94-2.06-.94-.94-2.06-.94 2.06-2.06.94z\"/><path d=\"M17.41 7.96l-1.37-1.37c-.4-.4-.92-.59-1.43-.59-.52 0-1.04.2-1.43.59L10.3 9.45l-7.72 7.72c-.78.78-.78 2.05 0 2.83L4 21.41c.39.39.9.59 1.41.59.51 0 1.02-.2 1.41-.59l7.78-7.78 2.81-2.81c.8-.78.8-2.07 0-2.86zM5.41 20L4 18.59l7.72-7.72 1.47 1.35L5.41 20z\"/>\n",
              "  </svg>\n",
              "      </button>\n",
              "      \n",
              "  <style>\n",
              "    .colab-df-container {\n",
              "      display:flex;\n",
              "      flex-wrap:wrap;\n",
              "      gap: 12px;\n",
              "    }\n",
              "\n",
              "    .colab-df-convert {\n",
              "      background-color: #E8F0FE;\n",
              "      border: none;\n",
              "      border-radius: 50%;\n",
              "      cursor: pointer;\n",
              "      display: none;\n",
              "      fill: #1967D2;\n",
              "      height: 32px;\n",
              "      padding: 0 0 0 0;\n",
              "      width: 32px;\n",
              "    }\n",
              "\n",
              "    .colab-df-convert:hover {\n",
              "      background-color: #E2EBFA;\n",
              "      box-shadow: 0px 1px 2px rgba(60, 64, 67, 0.3), 0px 1px 3px 1px rgba(60, 64, 67, 0.15);\n",
              "      fill: #174EA6;\n",
              "    }\n",
              "\n",
              "    [theme=dark] .colab-df-convert {\n",
              "      background-color: #3B4455;\n",
              "      fill: #D2E3FC;\n",
              "    }\n",
              "\n",
              "    [theme=dark] .colab-df-convert:hover {\n",
              "      background-color: #434B5C;\n",
              "      box-shadow: 0px 1px 3px 1px rgba(0, 0, 0, 0.15);\n",
              "      filter: drop-shadow(0px 1px 2px rgba(0, 0, 0, 0.3));\n",
              "      fill: #FFFFFF;\n",
              "    }\n",
              "  </style>\n",
              "\n",
              "      <script>\n",
              "        const buttonEl =\n",
              "          document.querySelector('#df-6bfdf8fc-c101-4c9e-a9d1-38fdf96a5198 button.colab-df-convert');\n",
              "        buttonEl.style.display =\n",
              "          google.colab.kernel.accessAllowed ? 'block' : 'none';\n",
              "\n",
              "        async function convertToInteractive(key) {\n",
              "          const element = document.querySelector('#df-6bfdf8fc-c101-4c9e-a9d1-38fdf96a5198');\n",
              "          const dataTable =\n",
              "            await google.colab.kernel.invokeFunction('convertToInteractive',\n",
              "                                                     [key], {});\n",
              "          if (!dataTable) return;\n",
              "\n",
              "          const docLinkHtml = 'Like what you see? Visit the ' +\n",
              "            '<a target=\"_blank\" href=https://colab.research.google.com/notebooks/data_table.ipynb>data table notebook</a>'\n",
              "            + ' to learn more about interactive tables.';\n",
              "          element.innerHTML = '';\n",
              "          dataTable['output_type'] = 'display_data';\n",
              "          await google.colab.output.renderOutput(dataTable, element);\n",
              "          const docLink = document.createElement('div');\n",
              "          docLink.innerHTML = docLinkHtml;\n",
              "          element.appendChild(docLink);\n",
              "        }\n",
              "      </script>\n",
              "    </div>\n",
              "  </div>\n",
              "  "
            ]
          },
          "metadata": {},
          "execution_count": 42
        }
      ]
    },
    {
      "cell_type": "markdown",
      "source": [
        "Model with highest Accuracy configuration : \n",
        "*   oversampled coef = 0.1\n",
        "*   undersampled coef = 0.1"
      ],
      "metadata": {
        "id": "ugIj5Of_ar4J"
      }
    },
    {
      "cell_type": "markdown",
      "source": [
        "## Model with highest Precission"
      ],
      "metadata": {
        "id": "POukxKLLa2ZK"
      }
    },
    {
      "cell_type": "code",
      "source": [
        "highest_precission = data_result.sort_values(['prec'], ascending = [False])\n",
        "highest_precission.head(1)"
      ],
      "metadata": {
        "colab": {
          "base_uri": "https://localhost:8080/",
          "height": 81
        },
        "id": "yaxox4LIbBsj",
        "outputId": "fce887f0-9ca0-4f16-8efb-042bd4afaf8c"
      },
      "execution_count": 43,
      "outputs": [
        {
          "output_type": "execute_result",
          "data": {
            "text/plain": [
              "   over_coef  under_coef     acc      prec    recall        f1\n",
              "0        0.1         0.1  0.9856  0.811765  0.775281  0.793103"
            ],
            "text/html": [
              "\n",
              "  <div id=\"df-5321e441-2d83-4506-8e67-89dba6dc4efd\">\n",
              "    <div class=\"colab-df-container\">\n",
              "      <div>\n",
              "<style scoped>\n",
              "    .dataframe tbody tr th:only-of-type {\n",
              "        vertical-align: middle;\n",
              "    }\n",
              "\n",
              "    .dataframe tbody tr th {\n",
              "        vertical-align: top;\n",
              "    }\n",
              "\n",
              "    .dataframe thead th {\n",
              "        text-align: right;\n",
              "    }\n",
              "</style>\n",
              "<table border=\"1\" class=\"dataframe\">\n",
              "  <thead>\n",
              "    <tr style=\"text-align: right;\">\n",
              "      <th></th>\n",
              "      <th>over_coef</th>\n",
              "      <th>under_coef</th>\n",
              "      <th>acc</th>\n",
              "      <th>prec</th>\n",
              "      <th>recall</th>\n",
              "      <th>f1</th>\n",
              "    </tr>\n",
              "  </thead>\n",
              "  <tbody>\n",
              "    <tr>\n",
              "      <th>0</th>\n",
              "      <td>0.1</td>\n",
              "      <td>0.1</td>\n",
              "      <td>0.9856</td>\n",
              "      <td>0.811765</td>\n",
              "      <td>0.775281</td>\n",
              "      <td>0.793103</td>\n",
              "    </tr>\n",
              "  </tbody>\n",
              "</table>\n",
              "</div>\n",
              "      <button class=\"colab-df-convert\" onclick=\"convertToInteractive('df-5321e441-2d83-4506-8e67-89dba6dc4efd')\"\n",
              "              title=\"Convert this dataframe to an interactive table.\"\n",
              "              style=\"display:none;\">\n",
              "        \n",
              "  <svg xmlns=\"http://www.w3.org/2000/svg\" height=\"24px\"viewBox=\"0 0 24 24\"\n",
              "       width=\"24px\">\n",
              "    <path d=\"M0 0h24v24H0V0z\" fill=\"none\"/>\n",
              "    <path d=\"M18.56 5.44l.94 2.06.94-2.06 2.06-.94-2.06-.94-.94-2.06-.94 2.06-2.06.94zm-11 1L8.5 8.5l.94-2.06 2.06-.94-2.06-.94L8.5 2.5l-.94 2.06-2.06.94zm10 10l.94 2.06.94-2.06 2.06-.94-2.06-.94-.94-2.06-.94 2.06-2.06.94z\"/><path d=\"M17.41 7.96l-1.37-1.37c-.4-.4-.92-.59-1.43-.59-.52 0-1.04.2-1.43.59L10.3 9.45l-7.72 7.72c-.78.78-.78 2.05 0 2.83L4 21.41c.39.39.9.59 1.41.59.51 0 1.02-.2 1.41-.59l7.78-7.78 2.81-2.81c.8-.78.8-2.07 0-2.86zM5.41 20L4 18.59l7.72-7.72 1.47 1.35L5.41 20z\"/>\n",
              "  </svg>\n",
              "      </button>\n",
              "      \n",
              "  <style>\n",
              "    .colab-df-container {\n",
              "      display:flex;\n",
              "      flex-wrap:wrap;\n",
              "      gap: 12px;\n",
              "    }\n",
              "\n",
              "    .colab-df-convert {\n",
              "      background-color: #E8F0FE;\n",
              "      border: none;\n",
              "      border-radius: 50%;\n",
              "      cursor: pointer;\n",
              "      display: none;\n",
              "      fill: #1967D2;\n",
              "      height: 32px;\n",
              "      padding: 0 0 0 0;\n",
              "      width: 32px;\n",
              "    }\n",
              "\n",
              "    .colab-df-convert:hover {\n",
              "      background-color: #E2EBFA;\n",
              "      box-shadow: 0px 1px 2px rgba(60, 64, 67, 0.3), 0px 1px 3px 1px rgba(60, 64, 67, 0.15);\n",
              "      fill: #174EA6;\n",
              "    }\n",
              "\n",
              "    [theme=dark] .colab-df-convert {\n",
              "      background-color: #3B4455;\n",
              "      fill: #D2E3FC;\n",
              "    }\n",
              "\n",
              "    [theme=dark] .colab-df-convert:hover {\n",
              "      background-color: #434B5C;\n",
              "      box-shadow: 0px 1px 3px 1px rgba(0, 0, 0, 0.15);\n",
              "      filter: drop-shadow(0px 1px 2px rgba(0, 0, 0, 0.3));\n",
              "      fill: #FFFFFF;\n",
              "    }\n",
              "  </style>\n",
              "\n",
              "      <script>\n",
              "        const buttonEl =\n",
              "          document.querySelector('#df-5321e441-2d83-4506-8e67-89dba6dc4efd button.colab-df-convert');\n",
              "        buttonEl.style.display =\n",
              "          google.colab.kernel.accessAllowed ? 'block' : 'none';\n",
              "\n",
              "        async function convertToInteractive(key) {\n",
              "          const element = document.querySelector('#df-5321e441-2d83-4506-8e67-89dba6dc4efd');\n",
              "          const dataTable =\n",
              "            await google.colab.kernel.invokeFunction('convertToInteractive',\n",
              "                                                     [key], {});\n",
              "          if (!dataTable) return;\n",
              "\n",
              "          const docLinkHtml = 'Like what you see? Visit the ' +\n",
              "            '<a target=\"_blank\" href=https://colab.research.google.com/notebooks/data_table.ipynb>data table notebook</a>'\n",
              "            + ' to learn more about interactive tables.';\n",
              "          element.innerHTML = '';\n",
              "          dataTable['output_type'] = 'display_data';\n",
              "          await google.colab.output.renderOutput(dataTable, element);\n",
              "          const docLink = document.createElement('div');\n",
              "          docLink.innerHTML = docLinkHtml;\n",
              "          element.appendChild(docLink);\n",
              "        }\n",
              "      </script>\n",
              "    </div>\n",
              "  </div>\n",
              "  "
            ]
          },
          "metadata": {},
          "execution_count": 43
        }
      ]
    },
    {
      "cell_type": "markdown",
      "source": [
        "Model with highest Precission configuration : \n",
        "*   oversampled coef = 0.1\n",
        "*   undersampled coef = 0.1"
      ],
      "metadata": {
        "id": "7GNGexsEbSFT"
      }
    },
    {
      "cell_type": "markdown",
      "source": [
        "## Model with highest F1 Score"
      ],
      "metadata": {
        "id": "kP2X3I4LbVwI"
      }
    },
    {
      "cell_type": "code",
      "source": [
        "highest_f1score = data_result.sort_values(['f1'], ascending = [False])\n",
        "highest_f1score.head(1)"
      ],
      "metadata": {
        "colab": {
          "base_uri": "https://localhost:8080/",
          "height": 81
        },
        "id": "SJ44SR95bdrw",
        "outputId": "8bc5e11e-e517-4298-d576-31fceeb6d1c4"
      },
      "execution_count": 44,
      "outputs": [
        {
          "output_type": "execute_result",
          "data": {
            "text/plain": [
              "   over_coef  under_coef     acc      prec    recall        f1\n",
              "0        0.1         0.1  0.9856  0.811765  0.775281  0.793103"
            ],
            "text/html": [
              "\n",
              "  <div id=\"df-95591d88-d1a4-4a13-8c27-fd50cc61fc74\">\n",
              "    <div class=\"colab-df-container\">\n",
              "      <div>\n",
              "<style scoped>\n",
              "    .dataframe tbody tr th:only-of-type {\n",
              "        vertical-align: middle;\n",
              "    }\n",
              "\n",
              "    .dataframe tbody tr th {\n",
              "        vertical-align: top;\n",
              "    }\n",
              "\n",
              "    .dataframe thead th {\n",
              "        text-align: right;\n",
              "    }\n",
              "</style>\n",
              "<table border=\"1\" class=\"dataframe\">\n",
              "  <thead>\n",
              "    <tr style=\"text-align: right;\">\n",
              "      <th></th>\n",
              "      <th>over_coef</th>\n",
              "      <th>under_coef</th>\n",
              "      <th>acc</th>\n",
              "      <th>prec</th>\n",
              "      <th>recall</th>\n",
              "      <th>f1</th>\n",
              "    </tr>\n",
              "  </thead>\n",
              "  <tbody>\n",
              "    <tr>\n",
              "      <th>0</th>\n",
              "      <td>0.1</td>\n",
              "      <td>0.1</td>\n",
              "      <td>0.9856</td>\n",
              "      <td>0.811765</td>\n",
              "      <td>0.775281</td>\n",
              "      <td>0.793103</td>\n",
              "    </tr>\n",
              "  </tbody>\n",
              "</table>\n",
              "</div>\n",
              "      <button class=\"colab-df-convert\" onclick=\"convertToInteractive('df-95591d88-d1a4-4a13-8c27-fd50cc61fc74')\"\n",
              "              title=\"Convert this dataframe to an interactive table.\"\n",
              "              style=\"display:none;\">\n",
              "        \n",
              "  <svg xmlns=\"http://www.w3.org/2000/svg\" height=\"24px\"viewBox=\"0 0 24 24\"\n",
              "       width=\"24px\">\n",
              "    <path d=\"M0 0h24v24H0V0z\" fill=\"none\"/>\n",
              "    <path d=\"M18.56 5.44l.94 2.06.94-2.06 2.06-.94-2.06-.94-.94-2.06-.94 2.06-2.06.94zm-11 1L8.5 8.5l.94-2.06 2.06-.94-2.06-.94L8.5 2.5l-.94 2.06-2.06.94zm10 10l.94 2.06.94-2.06 2.06-.94-2.06-.94-.94-2.06-.94 2.06-2.06.94z\"/><path d=\"M17.41 7.96l-1.37-1.37c-.4-.4-.92-.59-1.43-.59-.52 0-1.04.2-1.43.59L10.3 9.45l-7.72 7.72c-.78.78-.78 2.05 0 2.83L4 21.41c.39.39.9.59 1.41.59.51 0 1.02-.2 1.41-.59l7.78-7.78 2.81-2.81c.8-.78.8-2.07 0-2.86zM5.41 20L4 18.59l7.72-7.72 1.47 1.35L5.41 20z\"/>\n",
              "  </svg>\n",
              "      </button>\n",
              "      \n",
              "  <style>\n",
              "    .colab-df-container {\n",
              "      display:flex;\n",
              "      flex-wrap:wrap;\n",
              "      gap: 12px;\n",
              "    }\n",
              "\n",
              "    .colab-df-convert {\n",
              "      background-color: #E8F0FE;\n",
              "      border: none;\n",
              "      border-radius: 50%;\n",
              "      cursor: pointer;\n",
              "      display: none;\n",
              "      fill: #1967D2;\n",
              "      height: 32px;\n",
              "      padding: 0 0 0 0;\n",
              "      width: 32px;\n",
              "    }\n",
              "\n",
              "    .colab-df-convert:hover {\n",
              "      background-color: #E2EBFA;\n",
              "      box-shadow: 0px 1px 2px rgba(60, 64, 67, 0.3), 0px 1px 3px 1px rgba(60, 64, 67, 0.15);\n",
              "      fill: #174EA6;\n",
              "    }\n",
              "\n",
              "    [theme=dark] .colab-df-convert {\n",
              "      background-color: #3B4455;\n",
              "      fill: #D2E3FC;\n",
              "    }\n",
              "\n",
              "    [theme=dark] .colab-df-convert:hover {\n",
              "      background-color: #434B5C;\n",
              "      box-shadow: 0px 1px 3px 1px rgba(0, 0, 0, 0.15);\n",
              "      filter: drop-shadow(0px 1px 2px rgba(0, 0, 0, 0.3));\n",
              "      fill: #FFFFFF;\n",
              "    }\n",
              "  </style>\n",
              "\n",
              "      <script>\n",
              "        const buttonEl =\n",
              "          document.querySelector('#df-95591d88-d1a4-4a13-8c27-fd50cc61fc74 button.colab-df-convert');\n",
              "        buttonEl.style.display =\n",
              "          google.colab.kernel.accessAllowed ? 'block' : 'none';\n",
              "\n",
              "        async function convertToInteractive(key) {\n",
              "          const element = document.querySelector('#df-95591d88-d1a4-4a13-8c27-fd50cc61fc74');\n",
              "          const dataTable =\n",
              "            await google.colab.kernel.invokeFunction('convertToInteractive',\n",
              "                                                     [key], {});\n",
              "          if (!dataTable) return;\n",
              "\n",
              "          const docLinkHtml = 'Like what you see? Visit the ' +\n",
              "            '<a target=\"_blank\" href=https://colab.research.google.com/notebooks/data_table.ipynb>data table notebook</a>'\n",
              "            + ' to learn more about interactive tables.';\n",
              "          element.innerHTML = '';\n",
              "          dataTable['output_type'] = 'display_data';\n",
              "          await google.colab.output.renderOutput(dataTable, element);\n",
              "          const docLink = document.createElement('div');\n",
              "          docLink.innerHTML = docLinkHtml;\n",
              "          element.appendChild(docLink);\n",
              "        }\n",
              "      </script>\n",
              "    </div>\n",
              "  </div>\n",
              "  "
            ]
          },
          "metadata": {},
          "execution_count": 44
        }
      ]
    },
    {
      "cell_type": "markdown",
      "source": [
        "Model with highest F1 Score configuration : \n",
        "*   oversampled coef = 0.1\n",
        "*   undersampled coef = 0.1"
      ],
      "metadata": {
        "id": "GpyCMeEkYrUm"
      }
    },
    {
      "cell_type": "markdown",
      "source": [
        "## Model with highest Recall"
      ],
      "metadata": {
        "id": "DifW1WXuYCV1"
      }
    },
    {
      "cell_type": "code",
      "source": [
        "highest_recall = data_result.sort_values(['recall'], ascending = [False])\n",
        "highest_recall.head(1)"
      ],
      "metadata": {
        "colab": {
          "base_uri": "https://localhost:8080/",
          "height": 81
        },
        "id": "pi9zqeJwYHik",
        "outputId": "794351f2-6dbe-4997-b097-4b9a54485720"
      },
      "execution_count": 45,
      "outputs": [
        {
          "output_type": "execute_result",
          "data": {
            "text/plain": [
              "   over_coef  under_coef     acc      prec   recall        f1\n",
              "5        0.1         0.6  0.9504  0.413793  0.94382  0.575342"
            ],
            "text/html": [
              "\n",
              "  <div id=\"df-11f8de26-9275-4a2a-9957-8348ef330ac0\">\n",
              "    <div class=\"colab-df-container\">\n",
              "      <div>\n",
              "<style scoped>\n",
              "    .dataframe tbody tr th:only-of-type {\n",
              "        vertical-align: middle;\n",
              "    }\n",
              "\n",
              "    .dataframe tbody tr th {\n",
              "        vertical-align: top;\n",
              "    }\n",
              "\n",
              "    .dataframe thead th {\n",
              "        text-align: right;\n",
              "    }\n",
              "</style>\n",
              "<table border=\"1\" class=\"dataframe\">\n",
              "  <thead>\n",
              "    <tr style=\"text-align: right;\">\n",
              "      <th></th>\n",
              "      <th>over_coef</th>\n",
              "      <th>under_coef</th>\n",
              "      <th>acc</th>\n",
              "      <th>prec</th>\n",
              "      <th>recall</th>\n",
              "      <th>f1</th>\n",
              "    </tr>\n",
              "  </thead>\n",
              "  <tbody>\n",
              "    <tr>\n",
              "      <th>5</th>\n",
              "      <td>0.1</td>\n",
              "      <td>0.6</td>\n",
              "      <td>0.9504</td>\n",
              "      <td>0.413793</td>\n",
              "      <td>0.94382</td>\n",
              "      <td>0.575342</td>\n",
              "    </tr>\n",
              "  </tbody>\n",
              "</table>\n",
              "</div>\n",
              "      <button class=\"colab-df-convert\" onclick=\"convertToInteractive('df-11f8de26-9275-4a2a-9957-8348ef330ac0')\"\n",
              "              title=\"Convert this dataframe to an interactive table.\"\n",
              "              style=\"display:none;\">\n",
              "        \n",
              "  <svg xmlns=\"http://www.w3.org/2000/svg\" height=\"24px\"viewBox=\"0 0 24 24\"\n",
              "       width=\"24px\">\n",
              "    <path d=\"M0 0h24v24H0V0z\" fill=\"none\"/>\n",
              "    <path d=\"M18.56 5.44l.94 2.06.94-2.06 2.06-.94-2.06-.94-.94-2.06-.94 2.06-2.06.94zm-11 1L8.5 8.5l.94-2.06 2.06-.94-2.06-.94L8.5 2.5l-.94 2.06-2.06.94zm10 10l.94 2.06.94-2.06 2.06-.94-2.06-.94-.94-2.06-.94 2.06-2.06.94z\"/><path d=\"M17.41 7.96l-1.37-1.37c-.4-.4-.92-.59-1.43-.59-.52 0-1.04.2-1.43.59L10.3 9.45l-7.72 7.72c-.78.78-.78 2.05 0 2.83L4 21.41c.39.39.9.59 1.41.59.51 0 1.02-.2 1.41-.59l7.78-7.78 2.81-2.81c.8-.78.8-2.07 0-2.86zM5.41 20L4 18.59l7.72-7.72 1.47 1.35L5.41 20z\"/>\n",
              "  </svg>\n",
              "      </button>\n",
              "      \n",
              "  <style>\n",
              "    .colab-df-container {\n",
              "      display:flex;\n",
              "      flex-wrap:wrap;\n",
              "      gap: 12px;\n",
              "    }\n",
              "\n",
              "    .colab-df-convert {\n",
              "      background-color: #E8F0FE;\n",
              "      border: none;\n",
              "      border-radius: 50%;\n",
              "      cursor: pointer;\n",
              "      display: none;\n",
              "      fill: #1967D2;\n",
              "      height: 32px;\n",
              "      padding: 0 0 0 0;\n",
              "      width: 32px;\n",
              "    }\n",
              "\n",
              "    .colab-df-convert:hover {\n",
              "      background-color: #E2EBFA;\n",
              "      box-shadow: 0px 1px 2px rgba(60, 64, 67, 0.3), 0px 1px 3px 1px rgba(60, 64, 67, 0.15);\n",
              "      fill: #174EA6;\n",
              "    }\n",
              "\n",
              "    [theme=dark] .colab-df-convert {\n",
              "      background-color: #3B4455;\n",
              "      fill: #D2E3FC;\n",
              "    }\n",
              "\n",
              "    [theme=dark] .colab-df-convert:hover {\n",
              "      background-color: #434B5C;\n",
              "      box-shadow: 0px 1px 3px 1px rgba(0, 0, 0, 0.15);\n",
              "      filter: drop-shadow(0px 1px 2px rgba(0, 0, 0, 0.3));\n",
              "      fill: #FFFFFF;\n",
              "    }\n",
              "  </style>\n",
              "\n",
              "      <script>\n",
              "        const buttonEl =\n",
              "          document.querySelector('#df-11f8de26-9275-4a2a-9957-8348ef330ac0 button.colab-df-convert');\n",
              "        buttonEl.style.display =\n",
              "          google.colab.kernel.accessAllowed ? 'block' : 'none';\n",
              "\n",
              "        async function convertToInteractive(key) {\n",
              "          const element = document.querySelector('#df-11f8de26-9275-4a2a-9957-8348ef330ac0');\n",
              "          const dataTable =\n",
              "            await google.colab.kernel.invokeFunction('convertToInteractive',\n",
              "                                                     [key], {});\n",
              "          if (!dataTable) return;\n",
              "\n",
              "          const docLinkHtml = 'Like what you see? Visit the ' +\n",
              "            '<a target=\"_blank\" href=https://colab.research.google.com/notebooks/data_table.ipynb>data table notebook</a>'\n",
              "            + ' to learn more about interactive tables.';\n",
              "          element.innerHTML = '';\n",
              "          dataTable['output_type'] = 'display_data';\n",
              "          await google.colab.output.renderOutput(dataTable, element);\n",
              "          const docLink = document.createElement('div');\n",
              "          docLink.innerHTML = docLinkHtml;\n",
              "          element.appendChild(docLink);\n",
              "        }\n",
              "      </script>\n",
              "    </div>\n",
              "  </div>\n",
              "  "
            ]
          },
          "metadata": {},
          "execution_count": 45
        }
      ]
    },
    {
      "cell_type": "markdown",
      "source": [
        "Model with highest Recall configuration : \n",
        "*   oversampled coef = 0.1\n",
        "*   undersampled coef = 0.9"
      ],
      "metadata": {
        "id": "vKRPhX4YYwlP"
      }
    },
    {
      "cell_type": "markdown",
      "source": [
        "## Check Feature Importance"
      ],
      "metadata": {
        "id": "AsajqFLFbWkD"
      }
    },
    {
      "cell_type": "markdown",
      "source": [
        "compute feature importance for the Random Forest with scikit-learn package"
      ],
      "metadata": {
        "id": "AZ-18ToEdnYH"
      }
    },
    {
      "cell_type": "code",
      "source": [
        "from sklearn.model_selection import train_test_split\n",
        "from sklearn.ensemble import RandomForestRegressor\n",
        "from matplotlib import pyplot as plt\n",
        "\n",
        "plt.rcParams.update({'figure.figsize': (12.0, 8.0)})\n",
        "plt.rcParams.update({'font.size': 14})"
      ],
      "metadata": {
        "id": "GT6oxUbubgQJ"
      },
      "execution_count": 46,
      "outputs": []
    },
    {
      "cell_type": "code",
      "source": [
        "data = pd.read_csv('predictive_maintenance.csv')\n",
        "data.drop(['UDI', 'Product ID','Failure Type'], axis=1, inplace=True)\n",
        "type_dict = {'L':0,'M':1,'H':2}\n",
        "data['Type'] = data['Type'].map(type_dict)"
      ],
      "metadata": {
        "id": "ghV96YiLhSTJ"
      },
      "execution_count": 47,
      "outputs": []
    },
    {
      "cell_type": "code",
      "source": [
        "data_train, data_test = train_test_split(data, test_size = 0.25, random_state = 1) \n",
        "\n",
        "x_train_data = data_train.loc[:, data_train.columns!='Target']\n",
        "y_train_data = data_train.loc[:, data_train.columns=='Target']\n",
        "\n",
        "x_test_data = data_test.loc[:, data_test.columns!='Target']\n",
        "y_test_data = data_test.loc[:, data_test.columns=='Target']"
      ],
      "metadata": {
        "id": "6Qvanzzzc-MW"
      },
      "execution_count": 57,
      "outputs": []
    },
    {
      "cell_type": "markdown",
      "source": [
        "Fit the Random Forest Regressor with 100 Decision Trees:"
      ],
      "metadata": {
        "id": "MlYF34hbd4Zu"
      }
    },
    {
      "cell_type": "code",
      "source": [
        "rf = RandomForestRegressor(n_estimators=100)\n",
        "rf.fit(x_train_data, y_train_data)"
      ],
      "metadata": {
        "colab": {
          "base_uri": "https://localhost:8080/"
        },
        "id": "i360DFlNdbxP",
        "outputId": "b9e8fed5-0cb5-494d-cd6d-03e7db6d49f0"
      },
      "execution_count": 58,
      "outputs": [
        {
          "output_type": "execute_result",
          "data": {
            "text/plain": [
              "RandomForestRegressor()"
            ]
          },
          "metadata": {},
          "execution_count": 58
        }
      ]
    },
    {
      "cell_type": "markdown",
      "source": [
        "To get the feature importances from the Random Forest model use the feature_importances_ attribute:"
      ],
      "metadata": {
        "id": "YXbarTS1nrmD"
      }
    },
    {
      "cell_type": "code",
      "source": [
        "rf.feature_importances_"
      ],
      "metadata": {
        "colab": {
          "base_uri": "https://localhost:8080/"
        },
        "id": "tWSQso5wnjME",
        "outputId": "19115e48-ef15-4c5d-f99f-c28170ee7865"
      },
      "execution_count": 59,
      "outputs": [
        {
          "output_type": "execute_result",
          "data": {
            "text/plain": [
              "array([0.02586787, 0.18960491, 0.15987556, 0.12977247, 0.33986072,\n",
              "       0.15501847])"
            ]
          },
          "metadata": {},
          "execution_count": 59
        }
      ]
    },
    {
      "cell_type": "markdown",
      "source": [
        "Let’s plot the importances (chart will be easier to interpret than values)."
      ],
      "metadata": {
        "id": "W_Waxla-n3dM"
      }
    },
    {
      "cell_type": "code",
      "source": [
        "plt.barh(('Type', 'Air temperature [K]',\n",
        "       'Process temperature [K]', 'Rotational speed [rpm]', 'Torque [Nm]',\n",
        "       'Tool wear [min]'), rf.feature_importances_)\n",
        "\n",
        "plt.xlabel(\"Random Forest Feature Importance\")"
      ],
      "metadata": {
        "colab": {
          "base_uri": "https://localhost:8080/",
          "height": 522
        },
        "id": "D4VozAnyn4ti",
        "outputId": "4e172baa-1364-45f2-fb86-0feff6fb6978"
      },
      "execution_count": 76,
      "outputs": [
        {
          "output_type": "execute_result",
          "data": {
            "text/plain": [
              "Text(0.5, 0, 'Random Forest Feature Importance')"
            ]
          },
          "metadata": {},
          "execution_count": 76
        },
        {
          "output_type": "display_data",
          "data": {
            "text/plain": [
              "<Figure size 864x576 with 1 Axes>"
            ],
            "image/png": "[encoded data removed]"
          },
          "metadata": {
            "needs_background": "light"
          }
        }
      ]
    },
    {
      "cell_type": "markdown",
      "source": [
        "Top 3 Feature Importance of this Random Forest model are `Torque [Nm]`, `Air temperature [K]` & `Process temperature [K]`"
      ],
      "metadata": {
        "id": "3-9NDlWyvPOK"
      }
    },
    {
      "cell_type": "markdown",
      "source": [
        "# 6. Conclusion"
      ],
      "metadata": {
        "id": "k_-K36KO-PG5"
      }
    },
    {
      "cell_type": "markdown",
      "source": [
        "Best Random Forest model for this project is Combine Undersampling & Oversampling method (with higest RECALL score)\n",
        "Model configuration: \n",
        "*   oversampled coef = 0.1\n",
        "*   undersampled coef = 0.9  \n",
        "\n",
        "Top 3 Feature Importance of this Random Forest model are:\n",
        "- `Torque [Nm]`, \n",
        "- `Air temperature [K]`  \n",
        "- `Process temperature [K]`\n"
      ],
      "metadata": {
        "id": "P2W-xjq-2NRI"
      }
    }
  ]
}